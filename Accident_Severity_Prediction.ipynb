{
 "cells": [
  {
   "cell_type": "markdown",
   "metadata": {},
   "source": [
    "# Accident Severity Prediction"
   ]
  },
  {
   "cell_type": "markdown",
   "metadata": {},
   "source": [
    "## Introduction"
   ]
  },
  {
   "cell_type": "markdown",
   "metadata": {},
   "source": [
    "The objective of this project is to develop classification models to accurately predict the severity of an accident based on given conditions.  "
   ]
  },
  {
   "cell_type": "markdown",
   "metadata": {},
   "source": [
    "## Data"
   ]
  },
  {
   "cell_type": "code",
   "execution_count": 2,
   "metadata": {},
   "outputs": [],
   "source": [
    "import pandas as pd\n",
    "import numpy as np\n",
    "import matplotlib.pyplot as plt\n",
    "import seaborn as sns \n",
    "pd.set_option('display.max_columns', None)"
   ]
  },
  {
   "cell_type": "code",
   "execution_count": 3,
   "metadata": {},
   "outputs": [
    {
     "name": "stderr",
     "output_type": "stream",
     "text": [
      "C:\\ProgramData\\Anaconda3\\lib\\site-packages\\IPython\\core\\interactiveshell.py:3063: DtypeWarning: Columns (33) have mixed types.Specify dtype option on import or set low_memory=False.\n",
      "  interactivity=interactivity, compiler=compiler, result=result)\n"
     ]
    }
   ],
   "source": [
    "df0=pd.read_csv('Data-Collisions.CSV')"
   ]
  },
  {
   "cell_type": "markdown",
   "metadata": {},
   "source": [
    "## Data visualization and Pre-processing"
   ]
  },
  {
   "cell_type": "markdown",
   "metadata": {},
   "source": [
    "Target column: EVERITYCODE (Code 1 for property damage, Code 2 for injury)\n"
   ]
  },
  {
   "cell_type": "code",
   "execution_count": 4,
   "metadata": {},
   "outputs": [
    {
     "data": {
      "text/plain": [
       "1    136485\n",
       "2     58188\n",
       "Name: SEVERITYCODE, dtype: int64"
      ]
     },
     "execution_count": 4,
     "metadata": {},
     "output_type": "execute_result"
    }
   ],
   "source": [
    "df0['SEVERITYCODE'].value_counts()"
   ]
  },
  {
   "cell_type": "markdown",
   "metadata": {},
   "source": [
    "SeverityRatio function calculates the number of accidents with injuries over the number of accidents with property damage."
   ]
  },
  {
   "cell_type": "code",
   "execution_count": 5,
   "metadata": {},
   "outputs": [],
   "source": [
    "def SeverityRatio(df):\n",
    "    Ratio = round((((df.loc[df['SEVERITYCODE']==2]).shape[0])/((df.loc[df['SEVERITYCODE']==1]).shape[0])),2)\n",
    "    return Ratio"
   ]
  },
  {
   "cell_type": "code",
   "execution_count": 6,
   "metadata": {},
   "outputs": [
    {
     "data": {
      "text/plain": [
       "0.43"
      ]
     },
     "execution_count": 6,
     "metadata": {},
     "output_type": "execute_result"
    }
   ],
   "source": [
    "SeverityRatio(df0)"
   ]
  },
  {
   "cell_type": "code",
   "execution_count": 7,
   "metadata": {},
   "outputs": [
    {
     "name": "stdout",
     "output_type": "stream",
     "text": [
      "SEVERITYCODE : 2\n",
      "X : 23564\n",
      "Y : 23840\n",
      "OBJECTID : 194673\n",
      "INCKEY : 194673\n",
      "COLDETKEY : 194673\n",
      "REPORTNO : 194670\n",
      "STATUS : 2\n",
      "ADDRTYPE : 4\n",
      "INTKEY : 7615\n",
      "LOCATION : 24103\n",
      "EXCEPTRSNCODE : 3\n",
      "EXCEPTRSNDESC : 2\n",
      "SEVERITYCODE.1 : 2\n",
      "SEVERITYDESC : 2\n",
      "COLLISIONTYPE : 11\n",
      "PERSONCOUNT : 47\n",
      "PEDCOUNT : 7\n",
      "PEDCYLCOUNT : 3\n",
      "VEHCOUNT : 13\n",
      "INCDATE : 5985\n",
      "INCDTTM : 162058\n",
      "JUNCTIONTYPE : 8\n",
      "SDOT_COLCODE : 39\n",
      "SDOT_COLDESC : 39\n",
      "INATTENTIONIND : 2\n",
      "UNDERINFL : 5\n",
      "WEATHER : 12\n",
      "ROADCOND : 10\n",
      "LIGHTCOND : 10\n",
      "PEDROWNOTGRNT : 2\n",
      "SDOTCOLNUM : 114933\n",
      "SPEEDING : 2\n",
      "ST_COLCODE : 116\n",
      "ST_COLDESC : 63\n",
      "SEGLANEKEY : 1955\n",
      "CROSSWALKKEY : 2198\n",
      "HITPARKEDCAR : 2\n"
     ]
    }
   ],
   "source": [
    "for column in df0.columns:\n",
    "    print(column+\" : \"+str(len(df0[column].unique())))"
   ]
  },
  {
   "cell_type": "code",
   "execution_count": 8,
   "metadata": {},
   "outputs": [],
   "source": [
    "df = df0.drop(['X', 'Y', 'OBJECTID','INCKEY', 'COLDETKEY', 'REPORTNO', 'STATUS','INTKEY', 'LOCATION', 'EXCEPTRSNCODE','EXCEPTRSNDESC', 'SEVERITYCODE.1','SEVERITYDESC','INCDATE','SDOT_COLCODE', 'SDOT_COLDESC','SDOTCOLNUM', 'ST_COLCODE', 'ST_COLDESC', 'SEGLANEKEY', 'CROSSWALKKEY'], axis=1)"
   ]
  },
  {
   "cell_type": "code",
   "execution_count": 9,
   "metadata": {},
   "outputs": [
    {
     "data": {
      "text/html": [
       "<div>\n",
       "<style scoped>\n",
       "    .dataframe tbody tr th:only-of-type {\n",
       "        vertical-align: middle;\n",
       "    }\n",
       "\n",
       "    .dataframe tbody tr th {\n",
       "        vertical-align: top;\n",
       "    }\n",
       "\n",
       "    .dataframe thead th {\n",
       "        text-align: right;\n",
       "    }\n",
       "</style>\n",
       "<table border=\"1\" class=\"dataframe\">\n",
       "  <thead>\n",
       "    <tr style=\"text-align: right;\">\n",
       "      <th></th>\n",
       "      <th>SEVERITYCODE</th>\n",
       "      <th>ADDRTYPE</th>\n",
       "      <th>COLLISIONTYPE</th>\n",
       "      <th>PERSONCOUNT</th>\n",
       "      <th>PEDCOUNT</th>\n",
       "      <th>PEDCYLCOUNT</th>\n",
       "      <th>VEHCOUNT</th>\n",
       "      <th>INCDTTM</th>\n",
       "      <th>JUNCTIONTYPE</th>\n",
       "      <th>INATTENTIONIND</th>\n",
       "      <th>UNDERINFL</th>\n",
       "      <th>WEATHER</th>\n",
       "      <th>ROADCOND</th>\n",
       "      <th>LIGHTCOND</th>\n",
       "      <th>PEDROWNOTGRNT</th>\n",
       "      <th>SPEEDING</th>\n",
       "      <th>HITPARKEDCAR</th>\n",
       "    </tr>\n",
       "  </thead>\n",
       "  <tbody>\n",
       "    <tr>\n",
       "      <th>0</th>\n",
       "      <td>2</td>\n",
       "      <td>Intersection</td>\n",
       "      <td>Angles</td>\n",
       "      <td>2</td>\n",
       "      <td>0</td>\n",
       "      <td>0</td>\n",
       "      <td>2</td>\n",
       "      <td>3/27/2013 2:54:00 PM</td>\n",
       "      <td>At Intersection (intersection related)</td>\n",
       "      <td>NaN</td>\n",
       "      <td>N</td>\n",
       "      <td>Overcast</td>\n",
       "      <td>Wet</td>\n",
       "      <td>Daylight</td>\n",
       "      <td>NaN</td>\n",
       "      <td>NaN</td>\n",
       "      <td>N</td>\n",
       "    </tr>\n",
       "    <tr>\n",
       "      <th>1</th>\n",
       "      <td>1</td>\n",
       "      <td>Block</td>\n",
       "      <td>Sideswipe</td>\n",
       "      <td>2</td>\n",
       "      <td>0</td>\n",
       "      <td>0</td>\n",
       "      <td>2</td>\n",
       "      <td>12/20/2006 6:55:00 PM</td>\n",
       "      <td>Mid-Block (not related to intersection)</td>\n",
       "      <td>NaN</td>\n",
       "      <td>0</td>\n",
       "      <td>Raining</td>\n",
       "      <td>Wet</td>\n",
       "      <td>Dark - Street Lights On</td>\n",
       "      <td>NaN</td>\n",
       "      <td>NaN</td>\n",
       "      <td>N</td>\n",
       "    </tr>\n",
       "    <tr>\n",
       "      <th>2</th>\n",
       "      <td>1</td>\n",
       "      <td>Block</td>\n",
       "      <td>Parked Car</td>\n",
       "      <td>4</td>\n",
       "      <td>0</td>\n",
       "      <td>0</td>\n",
       "      <td>3</td>\n",
       "      <td>11/18/2004 10:20:00 AM</td>\n",
       "      <td>Mid-Block (not related to intersection)</td>\n",
       "      <td>NaN</td>\n",
       "      <td>0</td>\n",
       "      <td>Overcast</td>\n",
       "      <td>Dry</td>\n",
       "      <td>Daylight</td>\n",
       "      <td>NaN</td>\n",
       "      <td>NaN</td>\n",
       "      <td>N</td>\n",
       "    </tr>\n",
       "    <tr>\n",
       "      <th>3</th>\n",
       "      <td>1</td>\n",
       "      <td>Block</td>\n",
       "      <td>Other</td>\n",
       "      <td>3</td>\n",
       "      <td>0</td>\n",
       "      <td>0</td>\n",
       "      <td>3</td>\n",
       "      <td>3/29/2013 9:26:00 AM</td>\n",
       "      <td>Mid-Block (not related to intersection)</td>\n",
       "      <td>NaN</td>\n",
       "      <td>N</td>\n",
       "      <td>Clear</td>\n",
       "      <td>Dry</td>\n",
       "      <td>Daylight</td>\n",
       "      <td>NaN</td>\n",
       "      <td>NaN</td>\n",
       "      <td>N</td>\n",
       "    </tr>\n",
       "    <tr>\n",
       "      <th>4</th>\n",
       "      <td>2</td>\n",
       "      <td>Intersection</td>\n",
       "      <td>Angles</td>\n",
       "      <td>2</td>\n",
       "      <td>0</td>\n",
       "      <td>0</td>\n",
       "      <td>2</td>\n",
       "      <td>1/28/2004 8:04:00 AM</td>\n",
       "      <td>At Intersection (intersection related)</td>\n",
       "      <td>NaN</td>\n",
       "      <td>0</td>\n",
       "      <td>Raining</td>\n",
       "      <td>Wet</td>\n",
       "      <td>Daylight</td>\n",
       "      <td>NaN</td>\n",
       "      <td>NaN</td>\n",
       "      <td>N</td>\n",
       "    </tr>\n",
       "  </tbody>\n",
       "</table>\n",
       "</div>"
      ],
      "text/plain": [
       "   SEVERITYCODE      ADDRTYPE COLLISIONTYPE  PERSONCOUNT  PEDCOUNT  \\\n",
       "0             2  Intersection        Angles            2         0   \n",
       "1             1         Block     Sideswipe            2         0   \n",
       "2             1         Block    Parked Car            4         0   \n",
       "3             1         Block         Other            3         0   \n",
       "4             2  Intersection        Angles            2         0   \n",
       "\n",
       "   PEDCYLCOUNT  VEHCOUNT                 INCDTTM  \\\n",
       "0            0         2    3/27/2013 2:54:00 PM   \n",
       "1            0         2   12/20/2006 6:55:00 PM   \n",
       "2            0         3  11/18/2004 10:20:00 AM   \n",
       "3            0         3    3/29/2013 9:26:00 AM   \n",
       "4            0         2    1/28/2004 8:04:00 AM   \n",
       "\n",
       "                              JUNCTIONTYPE INATTENTIONIND UNDERINFL   WEATHER  \\\n",
       "0   At Intersection (intersection related)            NaN         N  Overcast   \n",
       "1  Mid-Block (not related to intersection)            NaN         0   Raining   \n",
       "2  Mid-Block (not related to intersection)            NaN         0  Overcast   \n",
       "3  Mid-Block (not related to intersection)            NaN         N     Clear   \n",
       "4   At Intersection (intersection related)            NaN         0   Raining   \n",
       "\n",
       "  ROADCOND                LIGHTCOND PEDROWNOTGRNT SPEEDING HITPARKEDCAR  \n",
       "0      Wet                 Daylight           NaN      NaN            N  \n",
       "1      Wet  Dark - Street Lights On           NaN      NaN            N  \n",
       "2      Dry                 Daylight           NaN      NaN            N  \n",
       "3      Dry                 Daylight           NaN      NaN            N  \n",
       "4      Wet                 Daylight           NaN      NaN            N  "
      ]
     },
     "execution_count": 9,
     "metadata": {},
     "output_type": "execute_result"
    }
   ],
   "source": [
    "df.head()"
   ]
  },
  {
   "cell_type": "code",
   "execution_count": 10,
   "metadata": {},
   "outputs": [
    {
     "data": {
      "text/plain": [
       "Y    29805\n",
       "Name: INATTENTIONIND, dtype: int64"
      ]
     },
     "execution_count": 10,
     "metadata": {},
     "output_type": "execute_result"
    }
   ],
   "source": [
    "df['INATTENTIONIND'].value_counts()"
   ]
  },
  {
   "cell_type": "code",
   "execution_count": 11,
   "metadata": {},
   "outputs": [
    {
     "data": {
      "text/plain": [
       "N    164868\n",
       "Y     29805\n",
       "Name: INATTENTIONIND, dtype: int64"
      ]
     },
     "execution_count": 11,
     "metadata": {},
     "output_type": "execute_result"
    }
   ],
   "source": [
    "df['INATTENTIONIND'].fillna('N', inplace=True)\n",
    "df['INATTENTIONIND'].value_counts()"
   ]
  },
  {
   "cell_type": "code",
   "execution_count": 12,
   "metadata": {},
   "outputs": [
    {
     "data": {
      "text/plain": [
       "N    100274\n",
       "0     80394\n",
       "Y      5126\n",
       "1      3995\n",
       "Name: UNDERINFL, dtype: int64"
      ]
     },
     "execution_count": 12,
     "metadata": {},
     "output_type": "execute_result"
    }
   ],
   "source": [
    "df['UNDERINFL'].value_counts()"
   ]
  },
  {
   "cell_type": "code",
   "execution_count": 13,
   "metadata": {},
   "outputs": [
    {
     "data": {
      "text/plain": [
       "N    185552\n",
       "Y      9121\n",
       "Name: UNDERINFL, dtype: int64"
      ]
     },
     "execution_count": 13,
     "metadata": {},
     "output_type": "execute_result"
    }
   ],
   "source": [
    "df['UNDERINFL'].fillna('N', inplace=True)\n",
    "df.loc[:, 'UNDERINFL'].replace({ '0' : 'N', '1' : 'Y'}, inplace=True)\n",
    "df['UNDERINFL'].value_counts()"
   ]
  },
  {
   "cell_type": "code",
   "execution_count": 14,
   "metadata": {},
   "outputs": [
    {
     "data": {
      "text/plain": [
       "Y    4667\n",
       "Name: PEDROWNOTGRNT, dtype: int64"
      ]
     },
     "execution_count": 14,
     "metadata": {},
     "output_type": "execute_result"
    }
   ],
   "source": [
    "df['PEDROWNOTGRNT'].value_counts()"
   ]
  },
  {
   "cell_type": "code",
   "execution_count": 15,
   "metadata": {},
   "outputs": [
    {
     "data": {
      "text/plain": [
       "N    190006\n",
       "Y      4667\n",
       "Name: PEDROWNOTGRNT, dtype: int64"
      ]
     },
     "execution_count": 15,
     "metadata": {},
     "output_type": "execute_result"
    }
   ],
   "source": [
    "df['PEDROWNOTGRNT'].fillna('N', inplace=True)\n",
    "df['PEDROWNOTGRNT'].value_counts()"
   ]
  },
  {
   "cell_type": "code",
   "execution_count": 16,
   "metadata": {},
   "outputs": [
    {
     "data": {
      "text/plain": [
       "Y    9333\n",
       "Name: SPEEDING, dtype: int64"
      ]
     },
     "execution_count": 16,
     "metadata": {},
     "output_type": "execute_result"
    }
   ],
   "source": [
    "df['SPEEDING'].value_counts()"
   ]
  },
  {
   "cell_type": "code",
   "execution_count": 17,
   "metadata": {},
   "outputs": [
    {
     "data": {
      "text/plain": [
       "N    185340\n",
       "Y      9333\n",
       "Name: SPEEDING, dtype: int64"
      ]
     },
     "execution_count": 17,
     "metadata": {},
     "output_type": "execute_result"
    }
   ],
   "source": [
    "df['SPEEDING'].fillna('N', inplace=True)\n",
    "df['SPEEDING'].value_counts()"
   ]
  },
  {
   "cell_type": "code",
   "execution_count": 18,
   "metadata": {},
   "outputs": [
    {
     "data": {
      "text/plain": [
       "array(['N', 'Y'], dtype=object)"
      ]
     },
     "execution_count": 18,
     "metadata": {},
     "output_type": "execute_result"
    }
   ],
   "source": [
    "df['HITPARKEDCAR'].unique()"
   ]
  },
  {
   "cell_type": "code",
   "execution_count": 19,
   "metadata": {},
   "outputs": [
    {
     "data": {
      "text/plain": [
       "Index(['SEVERITYCODE', 'ADDRTYPE', 'COLLISIONTYPE', 'PERSONCOUNT', 'PEDCOUNT',\n",
       "       'PEDCYLCOUNT', 'VEHCOUNT', 'INCDTTM', 'JUNCTIONTYPE', 'INATTENTIONIND',\n",
       "       'UNDERINFL', 'WEATHER', 'ROADCOND', 'LIGHTCOND', 'PEDROWNOTGRNT',\n",
       "       'SPEEDING', 'HITPARKEDCAR'],\n",
       "      dtype='object')"
      ]
     },
     "execution_count": 19,
     "metadata": {},
     "output_type": "execute_result"
    }
   ],
   "source": [
    "df.columns"
   ]
  },
  {
   "cell_type": "code",
   "execution_count": 20,
   "metadata": {},
   "outputs": [
    {
     "data": {
      "image/png": "[encoded data removed]",
      "text/plain": [
       "<Figure size 432x216 with 2 Axes>"
      ]
     },
     "metadata": {
      "needs_background": "light"
     },
     "output_type": "display_data"
    },
    {
     "data": {
      "image/png": "[encoded data removed]",
      "text/plain": [
       "<Figure size 432x216 with 2 Axes>"
      ]
     },
     "metadata": {
      "needs_background": "light"
     },
     "output_type": "display_data"
    },
    {
     "data": {
      "image/png": "[encoded data removed]",
      "text/plain": [
       "<Figure size 432x216 with 2 Axes>"
      ]
     },
     "metadata": {
      "needs_background": "light"
     },
     "output_type": "display_data"
    },
    {
     "data": {
      "image/png": "[encoded data removed]",
      "text/plain": [
       "<Figure size 432x216 with 2 Axes>"
      ]
     },
     "metadata": {
      "needs_background": "light"
     },
     "output_type": "display_data"
    },
    {
     "data": {
      "image/png": "[encoded data removed]",
      "text/plain": [
       "<Figure size 432x216 with 2 Axes>"
      ]
     },
     "metadata": {
      "needs_background": "light"
     },
     "output_type": "display_data"
    },
    {
     "data": {
      "image/png": "[encoded data removed]",
      "text/plain": [
       "<Figure size 432x216 with 2 Axes>"
      ]
     },
     "metadata": {
      "needs_background": "light"
     },
     "output_type": "display_data"
    },
    {
     "data": {
      "image/png": "[encoded data removed]",
      "text/plain": [
       "<Figure size 432x216 with 2 Axes>"
      ]
     },
     "metadata": {
      "needs_background": "light"
     },
     "output_type": "display_data"
    },
    {
     "data": {
      "image/png": "[encoded data removed]",
      "text/plain": [
       "<Figure size 432x216 with 2 Axes>"
      ]
     },
     "metadata": {
      "needs_background": "light"
     },
     "output_type": "display_data"
    },
    {
     "data": {
      "image/png": "[encoded data removed]",
      "text/plain": [
       "<Figure size 432x216 with 2 Axes>"
      ]
     },
     "metadata": {
      "needs_background": "light"
     },
     "output_type": "display_data"
    },
    {
     "data": {
      "image/png": "[encoded data removed]",
      "text/plain": [
       "<Figure size 432x216 with 2 Axes>"
      ]
     },
     "metadata": {
      "needs_background": "light"
     },
     "output_type": "display_data"
    },
    {
     "data": {
      "image/png": "[encoded data removed]",
      "text/plain": [
       "<Figure size 432x216 with 2 Axes>"
      ]
     },
     "metadata": {
      "needs_background": "light"
     },
     "output_type": "display_data"
    },
    {
     "data": {
      "image/png": "[encoded data removed]",
      "text/plain": [
       "<Figure size 432x216 with 2 Axes>"
      ]
     },
     "metadata": {
      "needs_background": "light"
     },
     "output_type": "display_data"
    },
    {
     "data": {
      "image/png": "[encoded data removed]",
      "text/plain": [
       "<Figure size 432x216 with 2 Axes>"
      ]
     },
     "metadata": {
      "needs_background": "light"
     },
     "output_type": "display_data"
    },
    {
     "data": {
      "image/png": "[encoded data removed]",
      "text/plain": [
       "<Figure size 432x216 with 2 Axes>"
      ]
     },
     "metadata": {
      "needs_background": "light"
     },
     "output_type": "display_data"
    }
   ],
   "source": [
    "import seaborn as sns\n",
    "\n",
    "for column in ['ADDRTYPE', 'COLLISIONTYPE', 'PEDCOUNT',\n",
    "       'PEDCYLCOUNT', 'VEHCOUNT', 'JUNCTIONTYPE', 'INATTENTIONIND',\n",
    "       'UNDERINFL', 'WEATHER', 'ROADCOND', 'LIGHTCOND', 'PEDROWNOTGRNT',\n",
    "       'SPEEDING', 'HITPARKEDCAR']:\n",
    "    bins = np.arange(len(df[column].unique())+1)\n",
    "    g = sns.FacetGrid(df, col=\"SEVERITYCODE\", hue=column, palette=\"Set1\", col_wrap=2)\n",
    "    g.map(plt.hist, column, bins=bins-0.5, ec=\"k\")\n",
    "    g.axes[-1].legend(bbox_to_anchor=(1.01, 1))\n",
    "    g.set_xticklabels(rotation=90)\n",
    "    plt.show()\n",
    "    \n",
    "    \n",
    "    "
   ]
  },
  {
   "cell_type": "code",
   "execution_count": 21,
   "metadata": {},
   "outputs": [],
   "source": [
    "df['INCDTTM'] = pd.to_datetime(df['INCDTTM'])\n",
    "df['DAYOFWEEK'] = df['INCDTTM'].dt.dayofweek\n",
    "df['HOUR'] = df['INCDTTM'].dt.hour\n",
    "df.drop('INCDTTM', axis=1, inplace=True)"
   ]
  },
  {
   "cell_type": "code",
   "execution_count": 22,
   "metadata": {},
   "outputs": [
    {
     "data": {
      "text/plain": [
       "{0: 0.37,\n",
       " 1: 0.32,\n",
       " 2: 0.32,\n",
       " 3: 0.27,\n",
       " 4: 0.29,\n",
       " 5: 0.42,\n",
       " 6: 0.47,\n",
       " 7: 0.49,\n",
       " 8: 0.46,\n",
       " 9: 0.43,\n",
       " 10: 0.4,\n",
       " 11: 0.41,\n",
       " 12: 0.4,\n",
       " 13: 0.43,\n",
       " 14: 0.47,\n",
       " 15: 0.48,\n",
       " 16: 0.49,\n",
       " 17: 0.53,\n",
       " 18: 0.52,\n",
       " 19: 0.46,\n",
       " 20: 0.39,\n",
       " 21: 0.41,\n",
       " 22: 0.39,\n",
       " 23: 0.32}"
      ]
     },
     "execution_count": 22,
     "metadata": {},
     "output_type": "execute_result"
    }
   ],
   "source": [
    "HOUR=[]\n",
    "HOUR_Ratio=[]\n",
    "HOUR_Ratio_Dict={}\n",
    "for i in range(0,24):\n",
    "    HOUR.append(int(i))\n",
    "    HOUR_Ratio.append(SeverityRatio(df.loc[df['HOUR'] == i]))\n",
    "    HOUR_Ratio_Dict[i]=float(SeverityRatio(df.loc[df['HOUR'] == i]))\n",
    "\n",
    "HOUR_Ratio_Dict"
   ]
  },
  {
   "cell_type": "code",
   "execution_count": 23,
   "metadata": {},
   "outputs": [
    {
     "data": {
      "image/png": "[encoded data removed]",
      "text/plain": [
       "<Figure size 432x288 with 1 Axes>"
      ]
     },
     "metadata": {
      "needs_background": "light"
     },
     "output_type": "display_data"
    }
   ],
   "source": [
    "plt.bar(HOUR, HOUR_Ratio, color='blue')\n",
    "plt.xlabel(\"Time of Day\")\n",
    "plt.ylabel(\"Severity Ratio\")\n",
    "plt.ylim(0,0.6)\n",
    "plt.show()"
   ]
  },
  {
   "cell_type": "code",
   "execution_count": 24,
   "metadata": {},
   "outputs": [
    {
     "name": "stdout",
     "output_type": "stream",
     "text": [
      "Day =0:   0.43\n",
      "Day =1:   0.44\n",
      "Day =2:   0.44\n",
      "Day =3:   0.44\n",
      "Day =4:   0.42\n",
      "Day =5:   0.42\n",
      "Day =6:   0.38\n"
     ]
    }
   ],
   "source": [
    "Day=[]\n",
    "Day_Ratio=[]\n",
    "for i in range(0,7):\n",
    "    Day.append(i)\n",
    "    Day_Ratio.append(SeverityRatio(df.loc[df['DAYOFWEEK'] == i]))\n",
    "    print('Day ='+str(i)+':   '+str(SeverityRatio(df.loc[df['DAYOFWEEK'] == i])))"
   ]
  },
  {
   "cell_type": "code",
   "execution_count": 25,
   "metadata": {},
   "outputs": [
    {
     "data": {
      "image/png": "[encoded data removed]",
      "text/plain": [
       "<Figure size 432x288 with 1 Axes>"
      ]
     },
     "metadata": {
      "needs_background": "light"
     },
     "output_type": "display_data"
    }
   ],
   "source": [
    "plt.bar(Day, Day_Ratio, color='green')\n",
    "plt.xlabel(\"Day of Week\")\n",
    "plt.ylabel(\"Severity Ratio\")\n",
    "plt.ylim(0,0.6)\n",
    "plt.show()"
   ]
  },
  {
   "cell_type": "code",
   "execution_count": 26,
   "metadata": {},
   "outputs": [
    {
     "name": "stdout",
     "output_type": "stream",
     "text": [
      "SEVERITYCODE  SEVERITYCODE\n",
      "1             1               1.0\n",
      "2             2               1.0\n",
      "Name: SEVERITYCODE, dtype: float64\n",
      "\n",
      "ADDRTYPE      SEVERITYCODE\n",
      "Alley         1               0.890812\n",
      "              2               0.109188\n",
      "Block         1               0.762885\n",
      "              2               0.237115\n",
      "Intersection  1               0.572476\n",
      "              2               0.427524\n",
      "Name: SEVERITYCODE, dtype: float64\n",
      "\n",
      "COLLISIONTYPE  SEVERITYCODE\n",
      "Angles         1               0.607083\n",
      "               2               0.392917\n",
      "Cycles         2               0.876085\n",
      "               1               0.123915\n",
      "Head On        1               0.569170\n",
      "               2               0.430830\n",
      "Left Turn      1               0.605123\n",
      "               2               0.394877\n",
      "Other          1               0.742142\n",
      "               2               0.257858\n",
      "Parked Car     1               0.944527\n",
      "               2               0.055473\n",
      "Pedestrian     2               0.898305\n",
      "               1               0.101695\n",
      "Rear Ended     1               0.569639\n",
      "               2               0.430361\n",
      "Right Turn     1               0.793978\n",
      "               2               0.206022\n",
      "Sideswipe      1               0.865334\n",
      "               2               0.134666\n",
      "Name: SEVERITYCODE, dtype: float64\n",
      "\n",
      "PERSONCOUNT  SEVERITYCODE\n",
      "0            1               0.682179\n",
      "             2               0.317821\n",
      "1            1               0.749430\n",
      "             2               0.250570\n",
      "2            1               0.756537\n",
      "                               ...   \n",
      "48           2               1.000000\n",
      "53           1               1.000000\n",
      "54           2               1.000000\n",
      "57           1               1.000000\n",
      "81           2               1.000000\n",
      "Name: SEVERITYCODE, Length: 79, dtype: float64\n",
      "\n",
      "PEDCOUNT  SEVERITYCODE\n",
      "0         1               0.723295\n",
      "          2               0.276705\n",
      "1         2               0.898579\n",
      "          1               0.101421\n",
      "2         2               0.915929\n",
      "          1               0.084071\n",
      "3         2               0.954545\n",
      "          1               0.045455\n",
      "4         2               1.000000\n",
      "5         2               1.000000\n",
      "6         2               1.000000\n",
      "Name: SEVERITYCODE, dtype: float64\n",
      "\n",
      "PEDCYLCOUNT  SEVERITYCODE\n",
      "0            1               0.717832\n",
      "             2               0.282168\n",
      "1            2               0.875207\n",
      "             1               0.124793\n",
      "2            2               1.000000\n",
      "Name: SEVERITYCODE, dtype: float64\n",
      "\n",
      "VEHCOUNT  SEVERITYCODE\n",
      "0         1               0.758702\n",
      "          2               0.241298\n",
      "1         2               0.547810\n",
      "          1               0.452190\n",
      "2         1               0.756526\n",
      "          2               0.243474\n",
      "3         1               0.579554\n",
      "          2               0.420446\n",
      "4         1               0.555647\n",
      "          2               0.444353\n",
      "5         1               0.506616\n",
      "          2               0.493384\n",
      "6         1               0.589041\n",
      "          2               0.410959\n",
      "7         1               0.521739\n",
      "          2               0.478261\n",
      "8         1               0.666667\n",
      "          2               0.333333\n",
      "9         2               0.666667\n",
      "          1               0.333333\n",
      "10        2               1.000000\n",
      "11        1               0.500000\n",
      "          2               0.500000\n",
      "12        1               1.000000\n",
      "Name: SEVERITYCODE, dtype: float64\n",
      "\n",
      "JUNCTIONTYPE                                       SEVERITYCODE\n",
      "At Intersection (but not related to intersection)  1               0.703051\n",
      "                                                   2               0.296949\n",
      "At Intersection (intersection related)             1               0.567362\n",
      "                                                   2               0.432638\n",
      "Driveway Junction                                  1               0.696936\n",
      "                                                   2               0.303064\n",
      "Mid-Block (but intersection related)               1               0.679816\n",
      "                                                   2               0.320184\n",
      "Mid-Block (not related to intersection)            1               0.783920\n",
      "                                                   2               0.216080\n",
      "Ramp Junction                                      1               0.674699\n",
      "                                                   2               0.325301\n",
      "Unknown                                            1               0.777778\n",
      "                                                   2               0.222222\n",
      "Name: SEVERITYCODE, dtype: float64\n",
      "\n",
      "INATTENTIONIND  SEVERITYCODE\n",
      "N               1               0.710126\n",
      "                2               0.289874\n",
      "Y               1               0.651166\n",
      "                2               0.348834\n",
      "Name: SEVERITYCODE, dtype: float64\n",
      "\n",
      "UNDERINFL  SEVERITYCODE\n",
      "N          1               0.705603\n",
      "           2               0.294397\n",
      "Y          1               0.609473\n",
      "           2               0.390527\n",
      "Name: SEVERITYCODE, dtype: float64\n",
      "\n",
      "WEATHER                   SEVERITYCODE\n",
      "Blowing Sand/Dirt         1               0.732143\n",
      "                          2               0.267857\n",
      "Clear                     1               0.677509\n",
      "                          2               0.322491\n",
      "Fog/Smog/Smoke            1               0.671353\n",
      "                          2               0.328647\n",
      "Other                     1               0.860577\n",
      "                          2               0.139423\n",
      "Overcast                  1               0.684456\n",
      "                          2               0.315544\n",
      "Partly Cloudy             2               0.600000\n",
      "                          1               0.400000\n",
      "Raining                   1               0.662815\n",
      "                          2               0.337185\n",
      "Severe Crosswind          1               0.720000\n",
      "                          2               0.280000\n",
      "Sleet/Hail/Freezing Rain  1               0.752212\n",
      "                          2               0.247788\n",
      "Snowing                   1               0.811466\n",
      "                          2               0.188534\n",
      "Unknown                   1               0.945928\n",
      "                          2               0.054072\n",
      "Name: SEVERITYCODE, dtype: float64\n",
      "\n",
      "ROADCOND        SEVERITYCODE\n",
      "Dry             1               0.678227\n",
      "                2               0.321773\n",
      "Ice             1               0.774194\n",
      "                2               0.225806\n",
      "Oil             1               0.625000\n",
      "                2               0.375000\n",
      "Other           1               0.674242\n",
      "                2               0.325758\n",
      "Sand/Mud/Dirt   1               0.693333\n",
      "                2               0.306667\n",
      "Snow/Slush      1               0.833665\n",
      "                2               0.166335\n",
      "Standing Water  1               0.739130\n",
      "                2               0.260870\n",
      "Unknown         1               0.950325\n",
      "                2               0.049675\n",
      "Wet             1               0.668134\n",
      "                2               0.331866\n",
      "Name: SEVERITYCODE, dtype: float64\n",
      "\n",
      "LIGHTCOND                 SEVERITYCODE\n",
      "Dark - No Street Lights   1               0.782694\n",
      "                          2               0.217306\n",
      "Dark - Street Lights Off  1               0.736447\n",
      "                          2               0.263553\n",
      "Dark - Street Lights On   1               0.701589\n",
      "                          2               0.298411\n",
      "Dark - Unknown Lighting   1               0.636364\n",
      "                          2               0.363636\n",
      "Dawn                      1               0.670663\n",
      "                          2               0.329337\n",
      "Daylight                  1               0.668116\n",
      "                          2               0.331884\n",
      "Dusk                      1               0.670620\n",
      "                          2               0.329380\n",
      "Other                     1               0.778723\n",
      "                          2               0.221277\n",
      "Unknown                   1               0.955095\n",
      "                          2               0.044905\n",
      "Name: SEVERITYCODE, dtype: float64\n",
      "\n",
      "PEDROWNOTGRNT  SEVERITYCODE\n",
      "N              1               0.715898\n",
      "               2               0.284102\n",
      "Y              2               0.901436\n",
      "               1               0.098564\n",
      "Name: SEVERITYCODE, dtype: float64\n",
      "\n",
      "SPEEDING  SEVERITYCODE\n",
      "N         1               0.705099\n",
      "          2               0.294901\n",
      "Y         1               0.621665\n",
      "          2               0.378335\n",
      "Name: SEVERITYCODE, dtype: float64\n",
      "\n",
      "HITPARKEDCAR  SEVERITYCODE\n",
      "N             1               0.691983\n",
      "              2               0.308017\n",
      "Y             1               0.937916\n",
      "              2               0.062084\n",
      "Name: SEVERITYCODE, dtype: float64\n",
      "\n",
      "DAYOFWEEK  SEVERITYCODE\n",
      "0          1               0.697281\n",
      "           2               0.302719\n",
      "1          1               0.694250\n",
      "           2               0.305750\n",
      "2          1               0.695705\n",
      "           2               0.304295\n",
      "3          1               0.692470\n",
      "           2               0.307530\n",
      "4          1               0.704358\n",
      "           2               0.295642\n",
      "5          1               0.706196\n",
      "           2               0.293804\n",
      "6          1               0.722022\n",
      "           2               0.277978\n",
      "Name: SEVERITYCODE, dtype: float64\n",
      "\n",
      "HOUR  SEVERITYCODE\n",
      "0     1               0.730898\n",
      "      2               0.269102\n",
      "1     1               0.756162\n",
      "      2               0.243838\n",
      "2     1               0.758735\n",
      "      2               0.241265\n",
      "3     1               0.790390\n",
      "      2               0.209610\n",
      "4     1               0.777414\n",
      "      2               0.222586\n",
      "5     1               0.706659\n",
      "      2               0.293341\n",
      "6     1               0.682088\n",
      "      2               0.317912\n",
      "7     1               0.670793\n",
      "      2               0.329207\n",
      "8     1               0.685881\n",
      "      2               0.314119\n",
      "9     1               0.700695\n",
      "      2               0.299305\n",
      "10    1               0.713463\n",
      "      2               0.286537\n",
      "11    1               0.707516\n",
      "      2               0.292484\n",
      "12    1               0.712442\n",
      "      2               0.287558\n",
      "13    1               0.698111\n",
      "      2               0.301889\n",
      "14    1               0.682525\n",
      "      2               0.317475\n",
      "15    1               0.675091\n",
      "      2               0.324909\n",
      "16    1               0.669032\n",
      "      2               0.330968\n",
      "17    1               0.652584\n",
      "      2               0.347416\n",
      "18    1               0.658011\n",
      "      2               0.341989\n",
      "19    1               0.684813\n",
      "      2               0.315187\n",
      "20    1               0.719371\n",
      "      2               0.280629\n",
      "21    1               0.709747\n",
      "      2               0.290253\n",
      "22    1               0.721105\n",
      "      2               0.278895\n",
      "23    1               0.759488\n",
      "      2               0.240512\n",
      "Name: SEVERITYCODE, dtype: float64\n",
      "\n"
     ]
    }
   ],
   "source": [
    "for column in df.columns:\n",
    "    print(df.groupby([column])['SEVERITYCODE'].value_counts(normalize=True))\n",
    "    print()"
   ]
  },
  {
   "cell_type": "code",
   "execution_count": 27,
   "metadata": {},
   "outputs": [],
   "source": [
    "df.drop(['PERSONCOUNT','VEHCOUNT'], axis=1, inplace=True)"
   ]
  },
  {
   "cell_type": "markdown",
   "metadata": {},
   "source": [
    "### Convert categorical varables to binary variables "
   ]
  },
  {
   "cell_type": "code",
   "execution_count": 28,
   "metadata": {},
   "outputs": [],
   "source": [
    "df = pd.concat([df,pd.get_dummies(df['ADDRTYPE'])], axis=1)\n",
    "df.drop('ADDRTYPE', axis=1, inplace=True)"
   ]
  },
  {
   "cell_type": "code",
   "execution_count": 29,
   "metadata": {},
   "outputs": [],
   "source": [
    "df = pd.concat([df,pd.get_dummies(df['COLLISIONTYPE'])], axis=1)\n",
    "df.drop('COLLISIONTYPE', axis=1, inplace=True)\n",
    "df.drop('Other', axis=1, inplace=True)"
   ]
  },
  {
   "cell_type": "code",
   "execution_count": 30,
   "metadata": {},
   "outputs": [],
   "source": [
    "df = pd.concat([df,pd.get_dummies(df['JUNCTIONTYPE'])], axis=1)\n",
    "df.drop('JUNCTIONTYPE', axis=1, inplace=True)\n",
    "df.drop('Unknown', axis=1, inplace=True)"
   ]
  },
  {
   "cell_type": "code",
   "execution_count": 31,
   "metadata": {},
   "outputs": [
    {
     "data": {
      "text/plain": [
       "array([0, 1], dtype=int64)"
      ]
     },
     "execution_count": 31,
     "metadata": {},
     "output_type": "execute_result"
    }
   ],
   "source": [
    "df.loc[:,'INATTENTIONIND'].replace({ 'N' : 0, 'Y' : 1}, inplace=True)\n",
    "df['INATTENTIONIND'].unique()"
   ]
  },
  {
   "cell_type": "code",
   "execution_count": 32,
   "metadata": {},
   "outputs": [
    {
     "data": {
      "text/plain": [
       "array([0, 1], dtype=int64)"
      ]
     },
     "execution_count": 32,
     "metadata": {},
     "output_type": "execute_result"
    }
   ],
   "source": [
    "df.loc[:,'UNDERINFL'].replace({ 'N' : 0, 'Y' : 1}, inplace=True)\n",
    "df['UNDERINFL'].unique()"
   ]
  },
  {
   "cell_type": "code",
   "execution_count": 33,
   "metadata": {},
   "outputs": [],
   "source": [
    "df = pd.concat([df,pd.get_dummies(df['WEATHER'])], axis=1)\n",
    "df.drop('WEATHER', axis=1, inplace=True)\n",
    "df.drop(['Clear','Other', 'Unknown'], axis=1, inplace=True)"
   ]
  },
  {
   "cell_type": "code",
   "execution_count": 34,
   "metadata": {},
   "outputs": [],
   "source": [
    "df = pd.concat([df,pd.get_dummies(df['ROADCOND'])], axis=1)\n",
    "df.drop('ROADCOND', axis=1, inplace=True)\n",
    "df.drop(['Other', 'Unknown'], axis=1, inplace=True)"
   ]
  },
  {
   "cell_type": "code",
   "execution_count": 35,
   "metadata": {},
   "outputs": [],
   "source": [
    "df = pd.concat([df,pd.get_dummies(df['LIGHTCOND'])], axis=1)\n",
    "df.drop(['LIGHTCOND', 'Dark - Unknown Lighting'], axis=1, inplace=True)\n",
    "df.drop(['Other', 'Unknown'], axis=1, inplace=True)"
   ]
  },
  {
   "cell_type": "code",
   "execution_count": 36,
   "metadata": {},
   "outputs": [
    {
     "data": {
      "text/plain": [
       "array([0, 1], dtype=int64)"
      ]
     },
     "execution_count": 36,
     "metadata": {},
     "output_type": "execute_result"
    }
   ],
   "source": [
    "df.loc[:,'PEDROWNOTGRNT'].replace({ 'N' : 0, 'Y' : 1}, inplace=True)\n",
    "df['PEDROWNOTGRNT'].unique()"
   ]
  },
  {
   "cell_type": "code",
   "execution_count": 37,
   "metadata": {},
   "outputs": [
    {
     "data": {
      "text/plain": [
       "array([0, 1], dtype=int64)"
      ]
     },
     "execution_count": 37,
     "metadata": {},
     "output_type": "execute_result"
    }
   ],
   "source": [
    "df.loc[:,'SPEEDING'].replace({ 'N' : 0, 'Y' : 1}, inplace=True)\n",
    "df['SPEEDING'].unique()"
   ]
  },
  {
   "cell_type": "code",
   "execution_count": 38,
   "metadata": {},
   "outputs": [
    {
     "data": {
      "text/plain": [
       "array([0, 1], dtype=int64)"
      ]
     },
     "execution_count": 38,
     "metadata": {},
     "output_type": "execute_result"
    }
   ],
   "source": [
    "df.loc[:,'HITPARKEDCAR'].replace({ 'N' : 0, 'Y' : 1}, inplace=True)\n",
    "df['HITPARKEDCAR'].unique()"
   ]
  },
  {
   "cell_type": "code",
   "execution_count": 39,
   "metadata": {},
   "outputs": [],
   "source": [
    "df['HOUR_RATIO']= df['HOUR'].map(HOUR_Ratio_Dict) "
   ]
  },
  {
   "cell_type": "code",
   "execution_count": 40,
   "metadata": {},
   "outputs": [],
   "source": [
    "df['HOUR_RATIO_LEVEL']=pd.cut(x=df['HOUR_RATIO'], bins=3, labels=['LOW_RATIO_HOUR', 'MEDIUM_RATIO_HOUR', 'HIGH_RATIO_HOUR'])"
   ]
  },
  {
   "cell_type": "code",
   "execution_count": 41,
   "metadata": {},
   "outputs": [],
   "source": [
    "df = pd.concat([df,pd.get_dummies(df['HOUR_RATIO_LEVEL'])], axis=1)\n",
    "df.drop(['HOUR', 'HOUR_RATIO', 'HOUR_RATIO_LEVEL'], axis=1, inplace=True)"
   ]
  },
  {
   "cell_type": "code",
   "execution_count": 42,
   "metadata": {},
   "outputs": [],
   "source": [
    "df.drop('DAYOFWEEK', axis=1, inplace=True)"
   ]
  },
  {
   "cell_type": "code",
   "execution_count": 43,
   "metadata": {},
   "outputs": [],
   "source": [
    "df.reset_index(drop=True, inplace=True)"
   ]
  },
  {
   "cell_type": "code",
   "execution_count": 44,
   "metadata": {},
   "outputs": [
    {
     "data": {
      "text/html": [
       "<div>\n",
       "<style scoped>\n",
       "    .dataframe tbody tr th:only-of-type {\n",
       "        vertical-align: middle;\n",
       "    }\n",
       "\n",
       "    .dataframe tbody tr th {\n",
       "        vertical-align: top;\n",
       "    }\n",
       "\n",
       "    .dataframe thead th {\n",
       "        text-align: right;\n",
       "    }\n",
       "</style>\n",
       "<table border=\"1\" class=\"dataframe\">\n",
       "  <thead>\n",
       "    <tr style=\"text-align: right;\">\n",
       "      <th></th>\n",
       "      <th>SEVERITYCODE</th>\n",
       "      <th>PEDCOUNT</th>\n",
       "      <th>PEDCYLCOUNT</th>\n",
       "      <th>INATTENTIONIND</th>\n",
       "      <th>UNDERINFL</th>\n",
       "      <th>PEDROWNOTGRNT</th>\n",
       "      <th>SPEEDING</th>\n",
       "      <th>HITPARKEDCAR</th>\n",
       "      <th>Alley</th>\n",
       "      <th>Block</th>\n",
       "      <th>Intersection</th>\n",
       "      <th>Angles</th>\n",
       "      <th>Cycles</th>\n",
       "      <th>Head On</th>\n",
       "      <th>Left Turn</th>\n",
       "      <th>Parked Car</th>\n",
       "      <th>Pedestrian</th>\n",
       "      <th>Rear Ended</th>\n",
       "      <th>Right Turn</th>\n",
       "      <th>Sideswipe</th>\n",
       "      <th>At Intersection (but not related to intersection)</th>\n",
       "      <th>At Intersection (intersection related)</th>\n",
       "      <th>Driveway Junction</th>\n",
       "      <th>Mid-Block (but intersection related)</th>\n",
       "      <th>Mid-Block (not related to intersection)</th>\n",
       "      <th>Ramp Junction</th>\n",
       "      <th>Blowing Sand/Dirt</th>\n",
       "      <th>Fog/Smog/Smoke</th>\n",
       "      <th>Overcast</th>\n",
       "      <th>Partly Cloudy</th>\n",
       "      <th>Raining</th>\n",
       "      <th>Severe Crosswind</th>\n",
       "      <th>Sleet/Hail/Freezing Rain</th>\n",
       "      <th>Snowing</th>\n",
       "      <th>Dry</th>\n",
       "      <th>Ice</th>\n",
       "      <th>Oil</th>\n",
       "      <th>Sand/Mud/Dirt</th>\n",
       "      <th>Snow/Slush</th>\n",
       "      <th>Standing Water</th>\n",
       "      <th>Wet</th>\n",
       "      <th>Dark - No Street Lights</th>\n",
       "      <th>Dark - Street Lights Off</th>\n",
       "      <th>Dark - Street Lights On</th>\n",
       "      <th>Dawn</th>\n",
       "      <th>Daylight</th>\n",
       "      <th>Dusk</th>\n",
       "      <th>LOW_RATIO_HOUR</th>\n",
       "      <th>MEDIUM_RATIO_HOUR</th>\n",
       "      <th>HIGH_RATIO_HOUR</th>\n",
       "    </tr>\n",
       "  </thead>\n",
       "  <tbody>\n",
       "    <tr>\n",
       "      <th>0</th>\n",
       "      <td>2</td>\n",
       "      <td>0</td>\n",
       "      <td>0</td>\n",
       "      <td>0</td>\n",
       "      <td>0</td>\n",
       "      <td>0</td>\n",
       "      <td>0</td>\n",
       "      <td>0</td>\n",
       "      <td>0</td>\n",
       "      <td>0</td>\n",
       "      <td>1</td>\n",
       "      <td>1</td>\n",
       "      <td>0</td>\n",
       "      <td>0</td>\n",
       "      <td>0</td>\n",
       "      <td>0</td>\n",
       "      <td>0</td>\n",
       "      <td>0</td>\n",
       "      <td>0</td>\n",
       "      <td>0</td>\n",
       "      <td>0</td>\n",
       "      <td>1</td>\n",
       "      <td>0</td>\n",
       "      <td>0</td>\n",
       "      <td>0</td>\n",
       "      <td>0</td>\n",
       "      <td>0</td>\n",
       "      <td>0</td>\n",
       "      <td>1</td>\n",
       "      <td>0</td>\n",
       "      <td>0</td>\n",
       "      <td>0</td>\n",
       "      <td>0</td>\n",
       "      <td>0</td>\n",
       "      <td>0</td>\n",
       "      <td>0</td>\n",
       "      <td>0</td>\n",
       "      <td>0</td>\n",
       "      <td>0</td>\n",
       "      <td>0</td>\n",
       "      <td>1</td>\n",
       "      <td>0</td>\n",
       "      <td>0</td>\n",
       "      <td>0</td>\n",
       "      <td>0</td>\n",
       "      <td>1</td>\n",
       "      <td>0</td>\n",
       "      <td>0</td>\n",
       "      <td>0</td>\n",
       "      <td>1</td>\n",
       "    </tr>\n",
       "    <tr>\n",
       "      <th>1</th>\n",
       "      <td>1</td>\n",
       "      <td>0</td>\n",
       "      <td>0</td>\n",
       "      <td>0</td>\n",
       "      <td>0</td>\n",
       "      <td>0</td>\n",
       "      <td>0</td>\n",
       "      <td>0</td>\n",
       "      <td>0</td>\n",
       "      <td>1</td>\n",
       "      <td>0</td>\n",
       "      <td>0</td>\n",
       "      <td>0</td>\n",
       "      <td>0</td>\n",
       "      <td>0</td>\n",
       "      <td>0</td>\n",
       "      <td>0</td>\n",
       "      <td>0</td>\n",
       "      <td>0</td>\n",
       "      <td>1</td>\n",
       "      <td>0</td>\n",
       "      <td>0</td>\n",
       "      <td>0</td>\n",
       "      <td>0</td>\n",
       "      <td>1</td>\n",
       "      <td>0</td>\n",
       "      <td>0</td>\n",
       "      <td>0</td>\n",
       "      <td>0</td>\n",
       "      <td>0</td>\n",
       "      <td>1</td>\n",
       "      <td>0</td>\n",
       "      <td>0</td>\n",
       "      <td>0</td>\n",
       "      <td>0</td>\n",
       "      <td>0</td>\n",
       "      <td>0</td>\n",
       "      <td>0</td>\n",
       "      <td>0</td>\n",
       "      <td>0</td>\n",
       "      <td>1</td>\n",
       "      <td>0</td>\n",
       "      <td>0</td>\n",
       "      <td>1</td>\n",
       "      <td>0</td>\n",
       "      <td>0</td>\n",
       "      <td>0</td>\n",
       "      <td>0</td>\n",
       "      <td>0</td>\n",
       "      <td>1</td>\n",
       "    </tr>\n",
       "    <tr>\n",
       "      <th>2</th>\n",
       "      <td>1</td>\n",
       "      <td>0</td>\n",
       "      <td>0</td>\n",
       "      <td>0</td>\n",
       "      <td>0</td>\n",
       "      <td>0</td>\n",
       "      <td>0</td>\n",
       "      <td>0</td>\n",
       "      <td>0</td>\n",
       "      <td>1</td>\n",
       "      <td>0</td>\n",
       "      <td>0</td>\n",
       "      <td>0</td>\n",
       "      <td>0</td>\n",
       "      <td>0</td>\n",
       "      <td>1</td>\n",
       "      <td>0</td>\n",
       "      <td>0</td>\n",
       "      <td>0</td>\n",
       "      <td>0</td>\n",
       "      <td>0</td>\n",
       "      <td>0</td>\n",
       "      <td>0</td>\n",
       "      <td>0</td>\n",
       "      <td>1</td>\n",
       "      <td>0</td>\n",
       "      <td>0</td>\n",
       "      <td>0</td>\n",
       "      <td>1</td>\n",
       "      <td>0</td>\n",
       "      <td>0</td>\n",
       "      <td>0</td>\n",
       "      <td>0</td>\n",
       "      <td>0</td>\n",
       "      <td>1</td>\n",
       "      <td>0</td>\n",
       "      <td>0</td>\n",
       "      <td>0</td>\n",
       "      <td>0</td>\n",
       "      <td>0</td>\n",
       "      <td>0</td>\n",
       "      <td>0</td>\n",
       "      <td>0</td>\n",
       "      <td>0</td>\n",
       "      <td>0</td>\n",
       "      <td>1</td>\n",
       "      <td>0</td>\n",
       "      <td>0</td>\n",
       "      <td>1</td>\n",
       "      <td>0</td>\n",
       "    </tr>\n",
       "    <tr>\n",
       "      <th>3</th>\n",
       "      <td>1</td>\n",
       "      <td>0</td>\n",
       "      <td>0</td>\n",
       "      <td>0</td>\n",
       "      <td>0</td>\n",
       "      <td>0</td>\n",
       "      <td>0</td>\n",
       "      <td>0</td>\n",
       "      <td>0</td>\n",
       "      <td>1</td>\n",
       "      <td>0</td>\n",
       "      <td>0</td>\n",
       "      <td>0</td>\n",
       "      <td>0</td>\n",
       "      <td>0</td>\n",
       "      <td>0</td>\n",
       "      <td>0</td>\n",
       "      <td>0</td>\n",
       "      <td>0</td>\n",
       "      <td>0</td>\n",
       "      <td>0</td>\n",
       "      <td>0</td>\n",
       "      <td>0</td>\n",
       "      <td>0</td>\n",
       "      <td>1</td>\n",
       "      <td>0</td>\n",
       "      <td>0</td>\n",
       "      <td>0</td>\n",
       "      <td>0</td>\n",
       "      <td>0</td>\n",
       "      <td>0</td>\n",
       "      <td>0</td>\n",
       "      <td>0</td>\n",
       "      <td>0</td>\n",
       "      <td>1</td>\n",
       "      <td>0</td>\n",
       "      <td>0</td>\n",
       "      <td>0</td>\n",
       "      <td>0</td>\n",
       "      <td>0</td>\n",
       "      <td>0</td>\n",
       "      <td>0</td>\n",
       "      <td>0</td>\n",
       "      <td>0</td>\n",
       "      <td>0</td>\n",
       "      <td>1</td>\n",
       "      <td>0</td>\n",
       "      <td>0</td>\n",
       "      <td>1</td>\n",
       "      <td>0</td>\n",
       "    </tr>\n",
       "    <tr>\n",
       "      <th>4</th>\n",
       "      <td>2</td>\n",
       "      <td>0</td>\n",
       "      <td>0</td>\n",
       "      <td>0</td>\n",
       "      <td>0</td>\n",
       "      <td>0</td>\n",
       "      <td>0</td>\n",
       "      <td>0</td>\n",
       "      <td>0</td>\n",
       "      <td>0</td>\n",
       "      <td>1</td>\n",
       "      <td>1</td>\n",
       "      <td>0</td>\n",
       "      <td>0</td>\n",
       "      <td>0</td>\n",
       "      <td>0</td>\n",
       "      <td>0</td>\n",
       "      <td>0</td>\n",
       "      <td>0</td>\n",
       "      <td>0</td>\n",
       "      <td>0</td>\n",
       "      <td>1</td>\n",
       "      <td>0</td>\n",
       "      <td>0</td>\n",
       "      <td>0</td>\n",
       "      <td>0</td>\n",
       "      <td>0</td>\n",
       "      <td>0</td>\n",
       "      <td>0</td>\n",
       "      <td>0</td>\n",
       "      <td>1</td>\n",
       "      <td>0</td>\n",
       "      <td>0</td>\n",
       "      <td>0</td>\n",
       "      <td>0</td>\n",
       "      <td>0</td>\n",
       "      <td>0</td>\n",
       "      <td>0</td>\n",
       "      <td>0</td>\n",
       "      <td>0</td>\n",
       "      <td>1</td>\n",
       "      <td>0</td>\n",
       "      <td>0</td>\n",
       "      <td>0</td>\n",
       "      <td>0</td>\n",
       "      <td>1</td>\n",
       "      <td>0</td>\n",
       "      <td>0</td>\n",
       "      <td>0</td>\n",
       "      <td>1</td>\n",
       "    </tr>\n",
       "  </tbody>\n",
       "</table>\n",
       "</div>"
      ],
      "text/plain": [
       "   SEVERITYCODE  PEDCOUNT  PEDCYLCOUNT  INATTENTIONIND  UNDERINFL  \\\n",
       "0             2         0            0               0          0   \n",
       "1             1         0            0               0          0   \n",
       "2             1         0            0               0          0   \n",
       "3             1         0            0               0          0   \n",
       "4             2         0            0               0          0   \n",
       "\n",
       "   PEDROWNOTGRNT  SPEEDING  HITPARKEDCAR  Alley  Block  Intersection  Angles  \\\n",
       "0              0         0             0      0      0             1       1   \n",
       "1              0         0             0      0      1             0       0   \n",
       "2              0         0             0      0      1             0       0   \n",
       "3              0         0             0      0      1             0       0   \n",
       "4              0         0             0      0      0             1       1   \n",
       "\n",
       "   Cycles  Head On  Left Turn  Parked Car  Pedestrian  Rear Ended  Right Turn  \\\n",
       "0       0        0          0           0           0           0           0   \n",
       "1       0        0          0           0           0           0           0   \n",
       "2       0        0          0           1           0           0           0   \n",
       "3       0        0          0           0           0           0           0   \n",
       "4       0        0          0           0           0           0           0   \n",
       "\n",
       "   Sideswipe  At Intersection (but not related to intersection)  \\\n",
       "0          0                                                  0   \n",
       "1          1                                                  0   \n",
       "2          0                                                  0   \n",
       "3          0                                                  0   \n",
       "4          0                                                  0   \n",
       "\n",
       "   At Intersection (intersection related)  Driveway Junction  \\\n",
       "0                                       1                  0   \n",
       "1                                       0                  0   \n",
       "2                                       0                  0   \n",
       "3                                       0                  0   \n",
       "4                                       1                  0   \n",
       "\n",
       "   Mid-Block (but intersection related)  \\\n",
       "0                                     0   \n",
       "1                                     0   \n",
       "2                                     0   \n",
       "3                                     0   \n",
       "4                                     0   \n",
       "\n",
       "   Mid-Block (not related to intersection)  Ramp Junction  Blowing Sand/Dirt  \\\n",
       "0                                        0              0                  0   \n",
       "1                                        1              0                  0   \n",
       "2                                        1              0                  0   \n",
       "3                                        1              0                  0   \n",
       "4                                        0              0                  0   \n",
       "\n",
       "   Fog/Smog/Smoke  Overcast  Partly Cloudy  Raining  Severe Crosswind  \\\n",
       "0               0         1              0        0                 0   \n",
       "1               0         0              0        1                 0   \n",
       "2               0         1              0        0                 0   \n",
       "3               0         0              0        0                 0   \n",
       "4               0         0              0        1                 0   \n",
       "\n",
       "   Sleet/Hail/Freezing Rain  Snowing  Dry  Ice  Oil  Sand/Mud/Dirt  \\\n",
       "0                         0        0    0    0    0              0   \n",
       "1                         0        0    0    0    0              0   \n",
       "2                         0        0    1    0    0              0   \n",
       "3                         0        0    1    0    0              0   \n",
       "4                         0        0    0    0    0              0   \n",
       "\n",
       "   Snow/Slush  Standing Water  Wet  Dark - No Street Lights  \\\n",
       "0           0               0    1                        0   \n",
       "1           0               0    1                        0   \n",
       "2           0               0    0                        0   \n",
       "3           0               0    0                        0   \n",
       "4           0               0    1                        0   \n",
       "\n",
       "   Dark - Street Lights Off  Dark - Street Lights On  Dawn  Daylight  Dusk  \\\n",
       "0                         0                        0     0         1     0   \n",
       "1                         0                        1     0         0     0   \n",
       "2                         0                        0     0         1     0   \n",
       "3                         0                        0     0         1     0   \n",
       "4                         0                        0     0         1     0   \n",
       "\n",
       "   LOW_RATIO_HOUR  MEDIUM_RATIO_HOUR  HIGH_RATIO_HOUR  \n",
       "0               0                  0                1  \n",
       "1               0                  0                1  \n",
       "2               0                  1                0  \n",
       "3               0                  1                0  \n",
       "4               0                  0                1  "
      ]
     },
     "execution_count": 44,
     "metadata": {},
     "output_type": "execute_result"
    }
   ],
   "source": [
    "df.head()"
   ]
  },
  {
   "cell_type": "code",
   "execution_count": 45,
   "metadata": {},
   "outputs": [
    {
     "data": {
      "text/plain": [
       "<matplotlib.axes._subplots.AxesSubplot at 0x21d1c29b408>"
      ]
     },
     "execution_count": 45,
     "metadata": {},
     "output_type": "execute_result"
    },
    {
     "data": {
      "image/png": "[encoded data removed]",
      "text/plain": [
       "<Figure size 1440x720 with 2 Axes>"
      ]
     },
     "metadata": {
      "needs_background": "light"
     },
     "output_type": "display_data"
    }
   ],
   "source": [
    "\n",
    "corr = df[['Alley','Block', 'Intersection','Rear Ended', 'Right Turn', 'Sideswipe', 'At Intersection (but not related to intersection)', 'At Intersection (intersection related)', 'Driveway Junction',\n",
    "       'Mid-Block (but intersection related)','Mid-Block (not related to intersection)', 'Ramp Junction']].corr()\n",
    "\n",
    "mask = np.triu(np.ones_like(corr, dtype=bool))\n",
    "\n",
    "f, ax = plt.subplots(figsize=(20, 10))\n",
    "\n",
    "cmap = sns.diverging_palette(230, 20, as_cmap=True)\n",
    "\n",
    "sns.heatmap(corr, mask=mask, cmap=cmap, vmax=1, vmin=-1, center=0,\n",
    "            square=True, linewidths=.5, cbar_kws={\"shrink\": .5})"
   ]
  },
  {
   "cell_type": "code",
   "execution_count": 46,
   "metadata": {},
   "outputs": [
    {
     "data": {
      "text/html": [
       "<div>\n",
       "<style scoped>\n",
       "    .dataframe tbody tr th:only-of-type {\n",
       "        vertical-align: middle;\n",
       "    }\n",
       "\n",
       "    .dataframe tbody tr th {\n",
       "        vertical-align: top;\n",
       "    }\n",
       "\n",
       "    .dataframe thead th {\n",
       "        text-align: right;\n",
       "    }\n",
       "</style>\n",
       "<table border=\"1\" class=\"dataframe\">\n",
       "  <thead>\n",
       "    <tr style=\"text-align: right;\">\n",
       "      <th></th>\n",
       "      <th>Alley</th>\n",
       "      <th>Block</th>\n",
       "      <th>Intersection</th>\n",
       "      <th>Rear Ended</th>\n",
       "      <th>Right Turn</th>\n",
       "      <th>Sideswipe</th>\n",
       "      <th>At Intersection (but not related to intersection)</th>\n",
       "      <th>At Intersection (intersection related)</th>\n",
       "      <th>Driveway Junction</th>\n",
       "      <th>Mid-Block (but intersection related)</th>\n",
       "      <th>Mid-Block (not related to intersection)</th>\n",
       "      <th>Ramp Junction</th>\n",
       "    </tr>\n",
       "  </thead>\n",
       "  <tbody>\n",
       "    <tr>\n",
       "      <th>Alley</th>\n",
       "      <td>1.000000</td>\n",
       "      <td>-0.085180</td>\n",
       "      <td>-0.044095</td>\n",
       "      <td>-0.026275</td>\n",
       "      <td>-0.007727</td>\n",
       "      <td>-0.015723</td>\n",
       "      <td>-0.005693</td>\n",
       "      <td>-0.042950</td>\n",
       "      <td>0.006492</td>\n",
       "      <td>-0.022660</td>\n",
       "      <td>-0.028329</td>\n",
       "      <td>-0.001818</td>\n",
       "    </tr>\n",
       "    <tr>\n",
       "      <th>Block</th>\n",
       "      <td>-0.085180</td>\n",
       "      <td>1.000000</td>\n",
       "      <td>-0.969869</td>\n",
       "      <td>0.210350</td>\n",
       "      <td>-0.061493</td>\n",
       "      <td>0.088904</td>\n",
       "      <td>-0.142763</td>\n",
       "      <td>-0.944584</td>\n",
       "      <td>0.173096</td>\n",
       "      <td>0.265490</td>\n",
       "      <td>0.665878</td>\n",
       "      <td>0.009151</td>\n",
       "    </tr>\n",
       "    <tr>\n",
       "      <th>Intersection</th>\n",
       "      <td>-0.044095</td>\n",
       "      <td>-0.969869</td>\n",
       "      <td>1.000000</td>\n",
       "      <td>-0.206280</td>\n",
       "      <td>0.064288</td>\n",
       "      <td>-0.085962</td>\n",
       "      <td>0.146884</td>\n",
       "      <td>0.973373</td>\n",
       "      <td>-0.170637</td>\n",
       "      <td>-0.257977</td>\n",
       "      <td>-0.655436</td>\n",
       "      <td>-0.009135</td>\n",
       "    </tr>\n",
       "    <tr>\n",
       "      <th>Rear Ended</th>\n",
       "      <td>-0.026275</td>\n",
       "      <td>0.210350</td>\n",
       "      <td>-0.206280</td>\n",
       "      <td>1.000000</td>\n",
       "      <td>-0.057212</td>\n",
       "      <td>-0.149792</td>\n",
       "      <td>0.060818</td>\n",
       "      <td>-0.221313</td>\n",
       "      <td>-0.087265</td>\n",
       "      <td>0.348300</td>\n",
       "      <td>0.029844</td>\n",
       "      <td>0.013859</td>\n",
       "    </tr>\n",
       "    <tr>\n",
       "      <th>Right Turn</th>\n",
       "      <td>-0.007727</td>\n",
       "      <td>-0.061493</td>\n",
       "      <td>0.064288</td>\n",
       "      <td>-0.057212</td>\n",
       "      <td>1.000000</td>\n",
       "      <td>-0.040369</td>\n",
       "      <td>0.004940</td>\n",
       "      <td>0.063912</td>\n",
       "      <td>0.015127</td>\n",
       "      <td>0.029130</td>\n",
       "      <td>-0.080269</td>\n",
       "      <td>-0.003628</td>\n",
       "    </tr>\n",
       "    <tr>\n",
       "      <th>Sideswipe</th>\n",
       "      <td>-0.015723</td>\n",
       "      <td>0.088904</td>\n",
       "      <td>-0.085962</td>\n",
       "      <td>-0.149792</td>\n",
       "      <td>-0.040369</td>\n",
       "      <td>1.000000</td>\n",
       "      <td>0.007521</td>\n",
       "      <td>-0.088460</td>\n",
       "      <td>-0.063786</td>\n",
       "      <td>0.006058</td>\n",
       "      <td>0.117822</td>\n",
       "      <td>0.010853</td>\n",
       "    </tr>\n",
       "    <tr>\n",
       "      <th>At Intersection (but not related to intersection)</th>\n",
       "      <td>-0.005693</td>\n",
       "      <td>-0.142763</td>\n",
       "      <td>0.146884</td>\n",
       "      <td>0.060818</td>\n",
       "      <td>0.004940</td>\n",
       "      <td>0.007521</td>\n",
       "      <td>1.000000</td>\n",
       "      <td>-0.072037</td>\n",
       "      <td>-0.025136</td>\n",
       "      <td>-0.038007</td>\n",
       "      <td>-0.096585</td>\n",
       "      <td>-0.003049</td>\n",
       "    </tr>\n",
       "    <tr>\n",
       "      <th>At Intersection (intersection related)</th>\n",
       "      <td>-0.042950</td>\n",
       "      <td>-0.944584</td>\n",
       "      <td>0.973373</td>\n",
       "      <td>-0.221313</td>\n",
       "      <td>0.063912</td>\n",
       "      <td>-0.088460</td>\n",
       "      <td>-0.072037</td>\n",
       "      <td>1.000000</td>\n",
       "      <td>-0.166205</td>\n",
       "      <td>-0.251309</td>\n",
       "      <td>-0.638645</td>\n",
       "      <td>-0.020162</td>\n",
       "    </tr>\n",
       "    <tr>\n",
       "      <th>Driveway Junction</th>\n",
       "      <td>0.006492</td>\n",
       "      <td>0.173096</td>\n",
       "      <td>-0.170637</td>\n",
       "      <td>-0.087265</td>\n",
       "      <td>0.015127</td>\n",
       "      <td>-0.063786</td>\n",
       "      <td>-0.025136</td>\n",
       "      <td>-0.166205</td>\n",
       "      <td>1.000000</td>\n",
       "      <td>-0.087689</td>\n",
       "      <td>-0.222842</td>\n",
       "      <td>-0.007035</td>\n",
       "    </tr>\n",
       "    <tr>\n",
       "      <th>Mid-Block (but intersection related)</th>\n",
       "      <td>-0.022660</td>\n",
       "      <td>0.265490</td>\n",
       "      <td>-0.257977</td>\n",
       "      <td>0.348300</td>\n",
       "      <td>0.029130</td>\n",
       "      <td>0.006058</td>\n",
       "      <td>-0.038007</td>\n",
       "      <td>-0.251309</td>\n",
       "      <td>-0.087689</td>\n",
       "      <td>1.000000</td>\n",
       "      <td>-0.336947</td>\n",
       "      <td>-0.010638</td>\n",
       "    </tr>\n",
       "    <tr>\n",
       "      <th>Mid-Block (not related to intersection)</th>\n",
       "      <td>-0.028329</td>\n",
       "      <td>0.665878</td>\n",
       "      <td>-0.655436</td>\n",
       "      <td>0.029844</td>\n",
       "      <td>-0.080269</td>\n",
       "      <td>0.117822</td>\n",
       "      <td>-0.096585</td>\n",
       "      <td>-0.638645</td>\n",
       "      <td>-0.222842</td>\n",
       "      <td>-0.336947</td>\n",
       "      <td>1.000000</td>\n",
       "      <td>-0.027033</td>\n",
       "    </tr>\n",
       "    <tr>\n",
       "      <th>Ramp Junction</th>\n",
       "      <td>-0.001818</td>\n",
       "      <td>0.009151</td>\n",
       "      <td>-0.009135</td>\n",
       "      <td>0.013859</td>\n",
       "      <td>-0.003628</td>\n",
       "      <td>0.010853</td>\n",
       "      <td>-0.003049</td>\n",
       "      <td>-0.020162</td>\n",
       "      <td>-0.007035</td>\n",
       "      <td>-0.010638</td>\n",
       "      <td>-0.027033</td>\n",
       "      <td>1.000000</td>\n",
       "    </tr>\n",
       "  </tbody>\n",
       "</table>\n",
       "</div>"
      ],
      "text/plain": [
       "                                                      Alley     Block  \\\n",
       "Alley                                              1.000000 -0.085180   \n",
       "Block                                             -0.085180  1.000000   \n",
       "Intersection                                      -0.044095 -0.969869   \n",
       "Rear Ended                                        -0.026275  0.210350   \n",
       "Right Turn                                        -0.007727 -0.061493   \n",
       "Sideswipe                                         -0.015723  0.088904   \n",
       "At Intersection (but not related to intersection) -0.005693 -0.142763   \n",
       "At Intersection (intersection related)            -0.042950 -0.944584   \n",
       "Driveway Junction                                  0.006492  0.173096   \n",
       "Mid-Block (but intersection related)              -0.022660  0.265490   \n",
       "Mid-Block (not related to intersection)           -0.028329  0.665878   \n",
       "Ramp Junction                                     -0.001818  0.009151   \n",
       "\n",
       "                                                   Intersection  Rear Ended  \\\n",
       "Alley                                                 -0.044095   -0.026275   \n",
       "Block                                                 -0.969869    0.210350   \n",
       "Intersection                                           1.000000   -0.206280   \n",
       "Rear Ended                                            -0.206280    1.000000   \n",
       "Right Turn                                             0.064288   -0.057212   \n",
       "Sideswipe                                             -0.085962   -0.149792   \n",
       "At Intersection (but not related to intersection)      0.146884    0.060818   \n",
       "At Intersection (intersection related)                 0.973373   -0.221313   \n",
       "Driveway Junction                                     -0.170637   -0.087265   \n",
       "Mid-Block (but intersection related)                  -0.257977    0.348300   \n",
       "Mid-Block (not related to intersection)               -0.655436    0.029844   \n",
       "Ramp Junction                                         -0.009135    0.013859   \n",
       "\n",
       "                                                   Right Turn  Sideswipe  \\\n",
       "Alley                                               -0.007727  -0.015723   \n",
       "Block                                               -0.061493   0.088904   \n",
       "Intersection                                         0.064288  -0.085962   \n",
       "Rear Ended                                          -0.057212  -0.149792   \n",
       "Right Turn                                           1.000000  -0.040369   \n",
       "Sideswipe                                           -0.040369   1.000000   \n",
       "At Intersection (but not related to intersection)    0.004940   0.007521   \n",
       "At Intersection (intersection related)               0.063912  -0.088460   \n",
       "Driveway Junction                                    0.015127  -0.063786   \n",
       "Mid-Block (but intersection related)                 0.029130   0.006058   \n",
       "Mid-Block (not related to intersection)             -0.080269   0.117822   \n",
       "Ramp Junction                                       -0.003628   0.010853   \n",
       "\n",
       "                                                   At Intersection (but not related to intersection)  \\\n",
       "Alley                                                                                      -0.005693   \n",
       "Block                                                                                      -0.142763   \n",
       "Intersection                                                                                0.146884   \n",
       "Rear Ended                                                                                  0.060818   \n",
       "Right Turn                                                                                  0.004940   \n",
       "Sideswipe                                                                                   0.007521   \n",
       "At Intersection (but not related to intersection)                                           1.000000   \n",
       "At Intersection (intersection related)                                                     -0.072037   \n",
       "Driveway Junction                                                                          -0.025136   \n",
       "Mid-Block (but intersection related)                                                       -0.038007   \n",
       "Mid-Block (not related to intersection)                                                    -0.096585   \n",
       "Ramp Junction                                                                              -0.003049   \n",
       "\n",
       "                                                   At Intersection (intersection related)  \\\n",
       "Alley                                                                           -0.042950   \n",
       "Block                                                                           -0.944584   \n",
       "Intersection                                                                     0.973373   \n",
       "Rear Ended                                                                      -0.221313   \n",
       "Right Turn                                                                       0.063912   \n",
       "Sideswipe                                                                       -0.088460   \n",
       "At Intersection (but not related to intersection)                               -0.072037   \n",
       "At Intersection (intersection related)                                           1.000000   \n",
       "Driveway Junction                                                               -0.166205   \n",
       "Mid-Block (but intersection related)                                            -0.251309   \n",
       "Mid-Block (not related to intersection)                                         -0.638645   \n",
       "Ramp Junction                                                                   -0.020162   \n",
       "\n",
       "                                                   Driveway Junction  \\\n",
       "Alley                                                       0.006492   \n",
       "Block                                                       0.173096   \n",
       "Intersection                                               -0.170637   \n",
       "Rear Ended                                                 -0.087265   \n",
       "Right Turn                                                  0.015127   \n",
       "Sideswipe                                                  -0.063786   \n",
       "At Intersection (but not related to intersection)          -0.025136   \n",
       "At Intersection (intersection related)                     -0.166205   \n",
       "Driveway Junction                                           1.000000   \n",
       "Mid-Block (but intersection related)                       -0.087689   \n",
       "Mid-Block (not related to intersection)                    -0.222842   \n",
       "Ramp Junction                                              -0.007035   \n",
       "\n",
       "                                                   Mid-Block (but intersection related)  \\\n",
       "Alley                                                                         -0.022660   \n",
       "Block                                                                          0.265490   \n",
       "Intersection                                                                  -0.257977   \n",
       "Rear Ended                                                                     0.348300   \n",
       "Right Turn                                                                     0.029130   \n",
       "Sideswipe                                                                      0.006058   \n",
       "At Intersection (but not related to intersection)                             -0.038007   \n",
       "At Intersection (intersection related)                                        -0.251309   \n",
       "Driveway Junction                                                             -0.087689   \n",
       "Mid-Block (but intersection related)                                           1.000000   \n",
       "Mid-Block (not related to intersection)                                       -0.336947   \n",
       "Ramp Junction                                                                 -0.010638   \n",
       "\n",
       "                                                   Mid-Block (not related to intersection)  \\\n",
       "Alley                                                                            -0.028329   \n",
       "Block                                                                             0.665878   \n",
       "Intersection                                                                     -0.655436   \n",
       "Rear Ended                                                                        0.029844   \n",
       "Right Turn                                                                       -0.080269   \n",
       "Sideswipe                                                                         0.117822   \n",
       "At Intersection (but not related to intersection)                                -0.096585   \n",
       "At Intersection (intersection related)                                           -0.638645   \n",
       "Driveway Junction                                                                -0.222842   \n",
       "Mid-Block (but intersection related)                                             -0.336947   \n",
       "Mid-Block (not related to intersection)                                           1.000000   \n",
       "Ramp Junction                                                                    -0.027033   \n",
       "\n",
       "                                                   Ramp Junction  \n",
       "Alley                                                  -0.001818  \n",
       "Block                                                   0.009151  \n",
       "Intersection                                           -0.009135  \n",
       "Rear Ended                                              0.013859  \n",
       "Right Turn                                             -0.003628  \n",
       "Sideswipe                                               0.010853  \n",
       "At Intersection (but not related to intersection)      -0.003049  \n",
       "At Intersection (intersection related)                 -0.020162  \n",
       "Driveway Junction                                      -0.007035  \n",
       "Mid-Block (but intersection related)                   -0.010638  \n",
       "Mid-Block (not related to intersection)                -0.027033  \n",
       "Ramp Junction                                           1.000000  "
      ]
     },
     "execution_count": 46,
     "metadata": {},
     "output_type": "execute_result"
    }
   ],
   "source": [
    " df[['Alley','Block', 'Intersection','Rear Ended', 'Right Turn', 'Sideswipe', 'At Intersection (but not related to intersection)', 'At Intersection (intersection related)', 'Driveway Junction',\n",
    "       'Mid-Block (but intersection related)','Mid-Block (not related to intersection)', 'Ramp Junction']].corr()"
   ]
  },
  {
   "cell_type": "code",
   "execution_count": 47,
   "metadata": {},
   "outputs": [],
   "source": [
    "df.drop(['Block', 'Intersection'], axis=1, inplace=True)"
   ]
  },
  {
   "cell_type": "code",
   "execution_count": 48,
   "metadata": {},
   "outputs": [
    {
     "data": {
      "text/plain": [
       "<matplotlib.axes._subplots.AxesSubplot at 0x21d1c0d2348>"
      ]
     },
     "execution_count": 48,
     "metadata": {},
     "output_type": "execute_result"
    },
    {
     "data": {
      "image/png": "[encoded data removed]",
      "text/plain": [
       "<Figure size 1440x720 with 2 Axes>"
      ]
     },
     "metadata": {
      "needs_background": "light"
     },
     "output_type": "display_data"
    }
   ],
   "source": [
    "\n",
    "corr = df[['PEDCOUNT', 'PEDCYLCOUNT', 'PEDROWNOTGRNT', 'HITPARKEDCAR', 'Cycles','Parked Car', 'Pedestrian']].corr()\n",
    "\n",
    "mask = np.triu(np.ones_like(corr, dtype=bool))\n",
    "\n",
    "f, ax = plt.subplots(figsize=(20, 10))\n",
    "\n",
    "cmap = sns.diverging_palette(230, 20, as_cmap=True)\n",
    "\n",
    "sns.heatmap(corr, mask=mask, cmap=cmap, vmax=1, vmin=-1, center=0,\n",
    "            square=True, linewidths=.5, cbar_kws={\"shrink\": .5})"
   ]
  },
  {
   "cell_type": "code",
   "execution_count": 49,
   "metadata": {},
   "outputs": [],
   "source": [
    "df.drop(['Cycles','Pedestrian'], axis=1, inplace=True)"
   ]
  },
  {
   "cell_type": "code",
   "execution_count": 50,
   "metadata": {},
   "outputs": [
    {
     "data": {
      "text/plain": [
       "Index(['SEVERITYCODE', 'PEDCOUNT', 'PEDCYLCOUNT', 'INATTENTIONIND',\n",
       "       'UNDERINFL', 'PEDROWNOTGRNT', 'SPEEDING', 'HITPARKEDCAR', 'Alley',\n",
       "       'Angles', 'Head On', 'Left Turn', 'Parked Car', 'Rear Ended',\n",
       "       'Right Turn', 'Sideswipe',\n",
       "       'At Intersection (but not related to intersection)',\n",
       "       'At Intersection (intersection related)', 'Driveway Junction',\n",
       "       'Mid-Block (but intersection related)',\n",
       "       'Mid-Block (not related to intersection)', 'Ramp Junction',\n",
       "       'Blowing Sand/Dirt', 'Fog/Smog/Smoke', 'Overcast', 'Partly Cloudy',\n",
       "       'Raining', 'Severe Crosswind', 'Sleet/Hail/Freezing Rain', 'Snowing',\n",
       "       'Dry', 'Ice', 'Oil', 'Sand/Mud/Dirt', 'Snow/Slush', 'Standing Water',\n",
       "       'Wet', 'Dark - No Street Lights', 'Dark - Street Lights Off',\n",
       "       'Dark - Street Lights On', 'Dawn', 'Daylight', 'Dusk', 'LOW_RATIO_HOUR',\n",
       "       'MEDIUM_RATIO_HOUR', 'HIGH_RATIO_HOUR'],\n",
       "      dtype='object')"
      ]
     },
     "execution_count": 50,
     "metadata": {},
     "output_type": "execute_result"
    }
   ],
   "source": [
    "df.columns"
   ]
  },
  {
   "cell_type": "code",
   "execution_count": 51,
   "metadata": {},
   "outputs": [
    {
     "data": {
      "text/plain": [
       "<matplotlib.axes._subplots.AxesSubplot at 0x21d1c1e42c8>"
      ]
     },
     "execution_count": 51,
     "metadata": {},
     "output_type": "execute_result"
    },
    {
     "data": {
      "image/png": "[encoded data removed]",
      "text/plain": [
       "<Figure size 1440x720 with 2 Axes>"
      ]
     },
     "metadata": {
      "needs_background": "light"
     },
     "output_type": "display_data"
    }
   ],
   "source": [
    "     \n",
    "corr = df[['Blowing Sand/Dirt', 'Fog/Smog/Smoke', 'Overcast', 'Partly Cloudy',\n",
    "       'Raining', 'Severe Crosswind', 'Sleet/Hail/Freezing Rain', 'Snowing',\n",
    "       'Dry', 'Ice', 'Oil', 'Sand/Mud/Dirt', 'Snow/Slush', 'Standing Water',\n",
    "       'Wet', 'Dark - No Street Lights', 'Dark - Street Lights Off',\n",
    "       'Dark - Street Lights On', 'Dawn', 'Daylight', 'Dusk']].corr()\n",
    "\n",
    "mask = np.triu(np.ones_like(corr, dtype=bool))\n",
    "\n",
    "f, ax = plt.subplots(figsize=(20, 10))\n",
    "\n",
    "cmap = sns.diverging_palette(230, 20, as_cmap=True)\n",
    "\n",
    "sns.heatmap(corr, mask=mask, cmap=cmap, vmax=1, vmin=-1, center=0,\n",
    "            square=True, linewidths=.5, cbar_kws={\"shrink\": .5})        "
   ]
  },
  {
   "cell_type": "code",
   "execution_count": 52,
   "metadata": {},
   "outputs": [],
   "source": [
    "df.drop(['Dry','Wet','Snow/Slush','Dark - Street Lights On'], axis=1, inplace=True)"
   ]
  },
  {
   "cell_type": "code",
   "execution_count": 53,
   "metadata": {},
   "outputs": [
    {
     "data": {
      "text/plain": [
       "<matplotlib.axes._subplots.AxesSubplot at 0x21d20260348>"
      ]
     },
     "execution_count": 53,
     "metadata": {},
     "output_type": "execute_result"
    },
    {
     "data": {
      "image/png": "[encoded data removed]",
      "text/plain": [
       "<Figure size 1440x720 with 2 Axes>"
      ]
     },
     "metadata": {
      "needs_background": "light"
     },
     "output_type": "display_data"
    }
   ],
   "source": [
    "corr = df[['LOW_RATIO_HOUR', 'MEDIUM_RATIO_HOUR', 'HIGH_RATIO_HOUR']].corr()\n",
    "\n",
    "mask = np.triu(np.ones_like(corr, dtype=bool))\n",
    "\n",
    "f, ax = plt.subplots(figsize=(20, 10))\n",
    "\n",
    "cmap = sns.diverging_palette(230, 20, as_cmap=True)\n",
    "\n",
    "sns.heatmap(corr, mask=mask, cmap=cmap, vmax=1, vmin=-1, center=0,\n",
    "            square=True, linewidths=.5, cbar_kws={\"shrink\": .5})  \n"
   ]
  },
  {
   "cell_type": "code",
   "execution_count": 54,
   "metadata": {},
   "outputs": [
    {
     "data": {
      "text/html": [
       "<div>\n",
       "<style scoped>\n",
       "    .dataframe tbody tr th:only-of-type {\n",
       "        vertical-align: middle;\n",
       "    }\n",
       "\n",
       "    .dataframe tbody tr th {\n",
       "        vertical-align: top;\n",
       "    }\n",
       "\n",
       "    .dataframe thead th {\n",
       "        text-align: right;\n",
       "    }\n",
       "</style>\n",
       "<table border=\"1\" class=\"dataframe\">\n",
       "  <thead>\n",
       "    <tr style=\"text-align: right;\">\n",
       "      <th></th>\n",
       "      <th>LOW_RATIO_HOUR</th>\n",
       "      <th>MEDIUM_RATIO_HOUR</th>\n",
       "      <th>HIGH_RATIO_HOUR</th>\n",
       "    </tr>\n",
       "  </thead>\n",
       "  <tbody>\n",
       "    <tr>\n",
       "      <th>LOW_RATIO_HOUR</th>\n",
       "      <td>1.000000</td>\n",
       "      <td>-0.284735</td>\n",
       "      <td>-0.243421</td>\n",
       "    </tr>\n",
       "    <tr>\n",
       "      <th>MEDIUM_RATIO_HOUR</th>\n",
       "      <td>-0.284735</td>\n",
       "      <td>1.000000</td>\n",
       "      <td>-0.860462</td>\n",
       "    </tr>\n",
       "    <tr>\n",
       "      <th>HIGH_RATIO_HOUR</th>\n",
       "      <td>-0.243421</td>\n",
       "      <td>-0.860462</td>\n",
       "      <td>1.000000</td>\n",
       "    </tr>\n",
       "  </tbody>\n",
       "</table>\n",
       "</div>"
      ],
      "text/plain": [
       "                   LOW_RATIO_HOUR  MEDIUM_RATIO_HOUR  HIGH_RATIO_HOUR\n",
       "LOW_RATIO_HOUR           1.000000          -0.284735        -0.243421\n",
       "MEDIUM_RATIO_HOUR       -0.284735           1.000000        -0.860462\n",
       "HIGH_RATIO_HOUR         -0.243421          -0.860462         1.000000"
      ]
     },
     "execution_count": 54,
     "metadata": {},
     "output_type": "execute_result"
    }
   ],
   "source": [
    "df[['LOW_RATIO_HOUR', 'MEDIUM_RATIO_HOUR', 'HIGH_RATIO_HOUR']].corr()"
   ]
  },
  {
   "cell_type": "code",
   "execution_count": 55,
   "metadata": {},
   "outputs": [],
   "source": [
    "df.drop(['MEDIUM_RATIO_HOUR'], axis=1, inplace=True)"
   ]
  },
  {
   "cell_type": "code",
   "execution_count": 56,
   "metadata": {},
   "outputs": [
    {
     "data": {
      "text/plain": [
       "<matplotlib.axes._subplots.AxesSubplot at 0x21d201e4c48>"
      ]
     },
     "execution_count": 56,
     "metadata": {},
     "output_type": "execute_result"
    },
    {
     "data": {
      "image/png": "[encoded data removed]",
      "text/plain": [
       "<Figure size 1440x720 with 2 Axes>"
      ]
     },
     "metadata": {
      "needs_background": "light"
     },
     "output_type": "display_data"
    }
   ],
   "source": [
    "        \n",
    "corr = df.corr()\n",
    "\n",
    "mask = np.triu(np.ones_like(corr, dtype=bool))\n",
    "\n",
    "f, ax = plt.subplots(figsize=(20, 10))\n",
    "\n",
    "cmap = sns.diverging_palette(230, 20, as_cmap=True)\n",
    "\n",
    "sns.heatmap(corr, mask=mask, cmap=cmap, vmax=1, vmin=-1, center=0,\n",
    "            square=True, linewidths=.5, cbar_kws={\"shrink\": .5})  "
   ]
  },
  {
   "cell_type": "code",
   "execution_count": 57,
   "metadata": {},
   "outputs": [
    {
     "data": {
      "text/html": [
       "<div>\n",
       "<style scoped>\n",
       "    .dataframe tbody tr th:only-of-type {\n",
       "        vertical-align: middle;\n",
       "    }\n",
       "\n",
       "    .dataframe tbody tr th {\n",
       "        vertical-align: top;\n",
       "    }\n",
       "\n",
       "    .dataframe thead th {\n",
       "        text-align: right;\n",
       "    }\n",
       "</style>\n",
       "<table border=\"1\" class=\"dataframe\">\n",
       "  <thead>\n",
       "    <tr style=\"text-align: right;\">\n",
       "      <th></th>\n",
       "      <th>SEVERITYCODE</th>\n",
       "      <th>PEDCOUNT</th>\n",
       "      <th>PEDCYLCOUNT</th>\n",
       "      <th>INATTENTIONIND</th>\n",
       "      <th>UNDERINFL</th>\n",
       "      <th>PEDROWNOTGRNT</th>\n",
       "      <th>SPEEDING</th>\n",
       "      <th>HITPARKEDCAR</th>\n",
       "      <th>Alley</th>\n",
       "      <th>Angles</th>\n",
       "      <th>Head On</th>\n",
       "      <th>Left Turn</th>\n",
       "      <th>Parked Car</th>\n",
       "      <th>Rear Ended</th>\n",
       "      <th>Right Turn</th>\n",
       "      <th>Sideswipe</th>\n",
       "      <th>At Intersection (but not related to intersection)</th>\n",
       "      <th>At Intersection (intersection related)</th>\n",
       "      <th>Driveway Junction</th>\n",
       "      <th>Mid-Block (but intersection related)</th>\n",
       "      <th>Mid-Block (not related to intersection)</th>\n",
       "      <th>Ramp Junction</th>\n",
       "      <th>Blowing Sand/Dirt</th>\n",
       "      <th>Fog/Smog/Smoke</th>\n",
       "      <th>Overcast</th>\n",
       "      <th>Partly Cloudy</th>\n",
       "      <th>Raining</th>\n",
       "      <th>Severe Crosswind</th>\n",
       "      <th>Sleet/Hail/Freezing Rain</th>\n",
       "      <th>Snowing</th>\n",
       "      <th>Ice</th>\n",
       "      <th>Oil</th>\n",
       "      <th>Sand/Mud/Dirt</th>\n",
       "      <th>Standing Water</th>\n",
       "      <th>Dark - No Street Lights</th>\n",
       "      <th>Dark - Street Lights Off</th>\n",
       "      <th>Dawn</th>\n",
       "      <th>Daylight</th>\n",
       "      <th>Dusk</th>\n",
       "      <th>LOW_RATIO_HOUR</th>\n",
       "      <th>HIGH_RATIO_HOUR</th>\n",
       "    </tr>\n",
       "  </thead>\n",
       "  <tbody>\n",
       "    <tr>\n",
       "      <th>0</th>\n",
       "      <td>2</td>\n",
       "      <td>0</td>\n",
       "      <td>0</td>\n",
       "      <td>0</td>\n",
       "      <td>0</td>\n",
       "      <td>0</td>\n",
       "      <td>0</td>\n",
       "      <td>0</td>\n",
       "      <td>0</td>\n",
       "      <td>1</td>\n",
       "      <td>0</td>\n",
       "      <td>0</td>\n",
       "      <td>0</td>\n",
       "      <td>0</td>\n",
       "      <td>0</td>\n",
       "      <td>0</td>\n",
       "      <td>0</td>\n",
       "      <td>1</td>\n",
       "      <td>0</td>\n",
       "      <td>0</td>\n",
       "      <td>0</td>\n",
       "      <td>0</td>\n",
       "      <td>0</td>\n",
       "      <td>0</td>\n",
       "      <td>1</td>\n",
       "      <td>0</td>\n",
       "      <td>0</td>\n",
       "      <td>0</td>\n",
       "      <td>0</td>\n",
       "      <td>0</td>\n",
       "      <td>0</td>\n",
       "      <td>0</td>\n",
       "      <td>0</td>\n",
       "      <td>0</td>\n",
       "      <td>0</td>\n",
       "      <td>0</td>\n",
       "      <td>0</td>\n",
       "      <td>1</td>\n",
       "      <td>0</td>\n",
       "      <td>0</td>\n",
       "      <td>1</td>\n",
       "    </tr>\n",
       "    <tr>\n",
       "      <th>1</th>\n",
       "      <td>1</td>\n",
       "      <td>0</td>\n",
       "      <td>0</td>\n",
       "      <td>0</td>\n",
       "      <td>0</td>\n",
       "      <td>0</td>\n",
       "      <td>0</td>\n",
       "      <td>0</td>\n",
       "      <td>0</td>\n",
       "      <td>0</td>\n",
       "      <td>0</td>\n",
       "      <td>0</td>\n",
       "      <td>0</td>\n",
       "      <td>0</td>\n",
       "      <td>0</td>\n",
       "      <td>1</td>\n",
       "      <td>0</td>\n",
       "      <td>0</td>\n",
       "      <td>0</td>\n",
       "      <td>0</td>\n",
       "      <td>1</td>\n",
       "      <td>0</td>\n",
       "      <td>0</td>\n",
       "      <td>0</td>\n",
       "      <td>0</td>\n",
       "      <td>0</td>\n",
       "      <td>1</td>\n",
       "      <td>0</td>\n",
       "      <td>0</td>\n",
       "      <td>0</td>\n",
       "      <td>0</td>\n",
       "      <td>0</td>\n",
       "      <td>0</td>\n",
       "      <td>0</td>\n",
       "      <td>0</td>\n",
       "      <td>0</td>\n",
       "      <td>0</td>\n",
       "      <td>0</td>\n",
       "      <td>0</td>\n",
       "      <td>0</td>\n",
       "      <td>1</td>\n",
       "    </tr>\n",
       "    <tr>\n",
       "      <th>2</th>\n",
       "      <td>1</td>\n",
       "      <td>0</td>\n",
       "      <td>0</td>\n",
       "      <td>0</td>\n",
       "      <td>0</td>\n",
       "      <td>0</td>\n",
       "      <td>0</td>\n",
       "      <td>0</td>\n",
       "      <td>0</td>\n",
       "      <td>0</td>\n",
       "      <td>0</td>\n",
       "      <td>0</td>\n",
       "      <td>1</td>\n",
       "      <td>0</td>\n",
       "      <td>0</td>\n",
       "      <td>0</td>\n",
       "      <td>0</td>\n",
       "      <td>0</td>\n",
       "      <td>0</td>\n",
       "      <td>0</td>\n",
       "      <td>1</td>\n",
       "      <td>0</td>\n",
       "      <td>0</td>\n",
       "      <td>0</td>\n",
       "      <td>1</td>\n",
       "      <td>0</td>\n",
       "      <td>0</td>\n",
       "      <td>0</td>\n",
       "      <td>0</td>\n",
       "      <td>0</td>\n",
       "      <td>0</td>\n",
       "      <td>0</td>\n",
       "      <td>0</td>\n",
       "      <td>0</td>\n",
       "      <td>0</td>\n",
       "      <td>0</td>\n",
       "      <td>0</td>\n",
       "      <td>1</td>\n",
       "      <td>0</td>\n",
       "      <td>0</td>\n",
       "      <td>0</td>\n",
       "    </tr>\n",
       "    <tr>\n",
       "      <th>3</th>\n",
       "      <td>1</td>\n",
       "      <td>0</td>\n",
       "      <td>0</td>\n",
       "      <td>0</td>\n",
       "      <td>0</td>\n",
       "      <td>0</td>\n",
       "      <td>0</td>\n",
       "      <td>0</td>\n",
       "      <td>0</td>\n",
       "      <td>0</td>\n",
       "      <td>0</td>\n",
       "      <td>0</td>\n",
       "      <td>0</td>\n",
       "      <td>0</td>\n",
       "      <td>0</td>\n",
       "      <td>0</td>\n",
       "      <td>0</td>\n",
       "      <td>0</td>\n",
       "      <td>0</td>\n",
       "      <td>0</td>\n",
       "      <td>1</td>\n",
       "      <td>0</td>\n",
       "      <td>0</td>\n",
       "      <td>0</td>\n",
       "      <td>0</td>\n",
       "      <td>0</td>\n",
       "      <td>0</td>\n",
       "      <td>0</td>\n",
       "      <td>0</td>\n",
       "      <td>0</td>\n",
       "      <td>0</td>\n",
       "      <td>0</td>\n",
       "      <td>0</td>\n",
       "      <td>0</td>\n",
       "      <td>0</td>\n",
       "      <td>0</td>\n",
       "      <td>0</td>\n",
       "      <td>1</td>\n",
       "      <td>0</td>\n",
       "      <td>0</td>\n",
       "      <td>0</td>\n",
       "    </tr>\n",
       "    <tr>\n",
       "      <th>4</th>\n",
       "      <td>2</td>\n",
       "      <td>0</td>\n",
       "      <td>0</td>\n",
       "      <td>0</td>\n",
       "      <td>0</td>\n",
       "      <td>0</td>\n",
       "      <td>0</td>\n",
       "      <td>0</td>\n",
       "      <td>0</td>\n",
       "      <td>1</td>\n",
       "      <td>0</td>\n",
       "      <td>0</td>\n",
       "      <td>0</td>\n",
       "      <td>0</td>\n",
       "      <td>0</td>\n",
       "      <td>0</td>\n",
       "      <td>0</td>\n",
       "      <td>1</td>\n",
       "      <td>0</td>\n",
       "      <td>0</td>\n",
       "      <td>0</td>\n",
       "      <td>0</td>\n",
       "      <td>0</td>\n",
       "      <td>0</td>\n",
       "      <td>0</td>\n",
       "      <td>0</td>\n",
       "      <td>1</td>\n",
       "      <td>0</td>\n",
       "      <td>0</td>\n",
       "      <td>0</td>\n",
       "      <td>0</td>\n",
       "      <td>0</td>\n",
       "      <td>0</td>\n",
       "      <td>0</td>\n",
       "      <td>0</td>\n",
       "      <td>0</td>\n",
       "      <td>0</td>\n",
       "      <td>1</td>\n",
       "      <td>0</td>\n",
       "      <td>0</td>\n",
       "      <td>1</td>\n",
       "    </tr>\n",
       "  </tbody>\n",
       "</table>\n",
       "</div>"
      ],
      "text/plain": [
       "   SEVERITYCODE  PEDCOUNT  PEDCYLCOUNT  INATTENTIONIND  UNDERINFL  \\\n",
       "0             2         0            0               0          0   \n",
       "1             1         0            0               0          0   \n",
       "2             1         0            0               0          0   \n",
       "3             1         0            0               0          0   \n",
       "4             2         0            0               0          0   \n",
       "\n",
       "   PEDROWNOTGRNT  SPEEDING  HITPARKEDCAR  Alley  Angles  Head On  Left Turn  \\\n",
       "0              0         0             0      0       1        0          0   \n",
       "1              0         0             0      0       0        0          0   \n",
       "2              0         0             0      0       0        0          0   \n",
       "3              0         0             0      0       0        0          0   \n",
       "4              0         0             0      0       1        0          0   \n",
       "\n",
       "   Parked Car  Rear Ended  Right Turn  Sideswipe  \\\n",
       "0           0           0           0          0   \n",
       "1           0           0           0          1   \n",
       "2           1           0           0          0   \n",
       "3           0           0           0          0   \n",
       "4           0           0           0          0   \n",
       "\n",
       "   At Intersection (but not related to intersection)  \\\n",
       "0                                                  0   \n",
       "1                                                  0   \n",
       "2                                                  0   \n",
       "3                                                  0   \n",
       "4                                                  0   \n",
       "\n",
       "   At Intersection (intersection related)  Driveway Junction  \\\n",
       "0                                       1                  0   \n",
       "1                                       0                  0   \n",
       "2                                       0                  0   \n",
       "3                                       0                  0   \n",
       "4                                       1                  0   \n",
       "\n",
       "   Mid-Block (but intersection related)  \\\n",
       "0                                     0   \n",
       "1                                     0   \n",
       "2                                     0   \n",
       "3                                     0   \n",
       "4                                     0   \n",
       "\n",
       "   Mid-Block (not related to intersection)  Ramp Junction  Blowing Sand/Dirt  \\\n",
       "0                                        0              0                  0   \n",
       "1                                        1              0                  0   \n",
       "2                                        1              0                  0   \n",
       "3                                        1              0                  0   \n",
       "4                                        0              0                  0   \n",
       "\n",
       "   Fog/Smog/Smoke  Overcast  Partly Cloudy  Raining  Severe Crosswind  \\\n",
       "0               0         1              0        0                 0   \n",
       "1               0         0              0        1                 0   \n",
       "2               0         1              0        0                 0   \n",
       "3               0         0              0        0                 0   \n",
       "4               0         0              0        1                 0   \n",
       "\n",
       "   Sleet/Hail/Freezing Rain  Snowing  Ice  Oil  Sand/Mud/Dirt  Standing Water  \\\n",
       "0                         0        0    0    0              0               0   \n",
       "1                         0        0    0    0              0               0   \n",
       "2                         0        0    0    0              0               0   \n",
       "3                         0        0    0    0              0               0   \n",
       "4                         0        0    0    0              0               0   \n",
       "\n",
       "   Dark - No Street Lights  Dark - Street Lights Off  Dawn  Daylight  Dusk  \\\n",
       "0                        0                         0     0         1     0   \n",
       "1                        0                         0     0         0     0   \n",
       "2                        0                         0     0         1     0   \n",
       "3                        0                         0     0         1     0   \n",
       "4                        0                         0     0         1     0   \n",
       "\n",
       "   LOW_RATIO_HOUR  HIGH_RATIO_HOUR  \n",
       "0               0                1  \n",
       "1               0                1  \n",
       "2               0                0  \n",
       "3               0                0  \n",
       "4               0                1  "
      ]
     },
     "execution_count": 57,
     "metadata": {},
     "output_type": "execute_result"
    }
   ],
   "source": [
    "df.head()"
   ]
  },
  {
   "cell_type": "markdown",
   "metadata": {},
   "source": [
    "## Model Development"
   ]
  },
  {
   "cell_type": "code",
   "execution_count": 58,
   "metadata": {},
   "outputs": [],
   "source": [
    "from sklearn.model_selection import train_test_split\n",
    "X = df.iloc[:, 1:]\n",
    "y=df['SEVERITYCODE'].values\n",
    "X_train, X_test, y_train, y_test = train_test_split(X, y, test_size=0.3, random_state=20)"
   ]
  },
  {
   "cell_type": "code",
   "execution_count": 59,
   "metadata": {},
   "outputs": [],
   "source": [
    "from sklearn import metrics\n",
    "from sklearn.metrics import f1_score\n",
    "from sklearn.metrics import classification_report\n",
    "from sklearn.metrics import confusion_matrix\n",
    "from sklearn.metrics import plot_confusion_matrix"
   ]
  },
  {
   "cell_type": "markdown",
   "metadata": {},
   "source": [
    "### K Nearest Neighbor(KNN)"
   ]
  },
  {
   "cell_type": "markdown",
   "metadata": {},
   "source": [
    "#### K-Fold Cross Validation"
   ]
  },
  {
   "cell_type": "code",
   "execution_count": 61,
   "metadata": {},
   "outputs": [
    {
     "name": "stdout",
     "output_type": "stream",
     "text": [
      "Best parameters set found on development set:\n",
      "\n",
      "{'n_neighbors': 8}\n",
      "\n",
      "Grid scores on development set:\n",
      "\n",
      "0.893 (+/-0.063) for {'n_neighbors': 6}\n",
      "\n",
      "0.865 (+/-0.068) for {'n_neighbors': 7}\n",
      "\n",
      "0.923 (+/-0.032) for {'n_neighbors': 8}\n",
      "\n",
      "0.892 (+/-0.032) for {'n_neighbors': 9}\n",
      "\n",
      "Detailed classification report:\n",
      "\n",
      "              precision    recall  f1-score   support\n",
      "\n",
      "           1       0.76      0.92      0.83     40876\n",
      "           2       0.61      0.31      0.41     17526\n",
      "\n",
      "    accuracy                           0.73     58402\n",
      "   macro avg       0.68      0.61      0.62     58402\n",
      "weighted avg       0.71      0.73      0.70     58402\n",
      "\n",
      "\n"
     ]
    }
   ],
   "source": [
    "from sklearn.model_selection import GridSearchCV\n",
    "from sklearn.metrics import classification_report\n",
    "from sklearn.neighbors import KNeighborsClassifier\n",
    "\n",
    "\n",
    "grid_params = [{ 'n_neighbors': [6, 7, 8, 9]}]\n",
    "\n",
    "gs = GridSearchCV(KNeighborsClassifier(), grid_params, scoring='recall', cv=3, return_train_score=True)\n",
    "gs.fit(X_train, y_train)\n",
    "print(\"Best parameters set found on development set:\")\n",
    "print()\n",
    "print(gs.best_params_)\n",
    "print()\n",
    "print(\"Grid scores on development set:\")\n",
    "print()\n",
    "means = gs.cv_results_['mean_test_score']\n",
    "stds = gs.cv_results_['std_test_score']\n",
    "for mean, std, params in zip(means, stds, gs.cv_results_['params']):\n",
    "    print(\"%0.3f (+/-%0.03f) for %r\"% (mean, std * 2, params))\n",
    "    print()\n",
    "\n",
    "print(\"Detailed classification report:\")\n",
    "print()\n",
    "y_true, y_pred = y_test, gs.predict(X_test)\n",
    "print(classification_report(y_true, y_pred))\n",
    "print()"
   ]
  },
  {
   "cell_type": "code",
   "execution_count": 62,
   "metadata": {},
   "outputs": [
    {
     "data": {
      "image/png": "[encoded data removed]",
      "text/plain": [
       "<Figure size 432x288 with 2 Axes>"
      ]
     },
     "metadata": {
      "needs_background": "light"
     },
     "output_type": "display_data"
    }
   ],
   "source": [
    "kNN_model = KNeighborsClassifier(n_neighbors=8).fit(X_train,y_train)\n",
    "plot_confusion_matrix(kNN_model, X_test, y_test, normalize='true')  \n",
    "plt.show()"
   ]
  },
  {
   "cell_type": "markdown",
   "metadata": {},
   "source": [
    "### Support Vector Machine"
   ]
  },
  {
   "cell_type": "markdown",
   "metadata": {},
   "source": [
    "#### Fitting"
   ]
  },
  {
   "cell_type": "code",
   "execution_count": 63,
   "metadata": {},
   "outputs": [
    {
     "data": {
      "text/plain": [
       "SVC(C=1, kernel='linear')"
      ]
     },
     "execution_count": 63,
     "metadata": {},
     "output_type": "execute_result"
    }
   ],
   "source": [
    "from sklearn import svm\n",
    "from sklearn.svm import SVC\n",
    "\n",
    "SVM_model = svm.SVC(kernel='linear', C=1)\n",
    "SVM_model.fit(X_train, y_train) "
   ]
  },
  {
   "cell_type": "markdown",
   "metadata": {},
   "source": [
    "#### Prediction"
   ]
  },
  {
   "cell_type": "code",
   "execution_count": 64,
   "metadata": {},
   "outputs": [],
   "source": [
    "y_pred_SVM = SVM_model.predict(X_test)"
   ]
  },
  {
   "cell_type": "markdown",
   "metadata": {},
   "source": [
    "#### Evaluation"
   ]
  },
  {
   "cell_type": "code",
   "execution_count": 65,
   "metadata": {},
   "outputs": [
    {
     "name": "stdout",
     "output_type": "stream",
     "text": [
      "              precision    recall  f1-score   support\n",
      "\n",
      "           1       0.74      0.99      0.85     40876\n",
      "           2       0.90      0.19      0.31     17526\n",
      "\n",
      "    accuracy                           0.75     58402\n",
      "   macro avg       0.82      0.59      0.58     58402\n",
      "weighted avg       0.79      0.75      0.69     58402\n",
      "\n"
     ]
    }
   ],
   "source": [
    "print(classification_report(y_test, y_pred_SVM))"
   ]
  },
  {
   "cell_type": "code",
   "execution_count": 66,
   "metadata": {},
   "outputs": [
    {
     "data": {
      "text/plain": [
       "array([[40486,   390],\n",
       "       [14194,  3332]], dtype=int64)"
      ]
     },
     "execution_count": 66,
     "metadata": {},
     "output_type": "execute_result"
    }
   ],
   "source": [
    "confusion_matrix(y_test, y_pred_SVM)"
   ]
  },
  {
   "cell_type": "code",
   "execution_count": 67,
   "metadata": {},
   "outputs": [
    {
     "data": {
      "image/png": "[encoded data removed]",
      "text/plain": [
       "<Figure size 432x288 with 2 Axes>"
      ]
     },
     "metadata": {
      "needs_background": "light"
     },
     "output_type": "display_data"
    }
   ],
   "source": [
    "plot_confusion_matrix(SVM_model, X_test, y_test, normalize='true')  \n",
    "plt.show()"
   ]
  },
  {
   "cell_type": "markdown",
   "metadata": {},
   "source": [
    "### Decision Tree"
   ]
  },
  {
   "cell_type": "markdown",
   "metadata": {},
   "source": [
    "#### Fitting"
   ]
  },
  {
   "cell_type": "code",
   "execution_count": 68,
   "metadata": {},
   "outputs": [
    {
     "data": {
      "text/plain": [
       "DecisionTreeClassifier(criterion='entropy', max_depth=6)"
      ]
     },
     "execution_count": 68,
     "metadata": {},
     "output_type": "execute_result"
    }
   ],
   "source": [
    "from sklearn.tree import DecisionTreeClassifier\n",
    "\n",
    "DT_model = DecisionTreeClassifier(criterion=\"entropy\", max_depth = 6)\n",
    "DT_model.fit(X_train,y_train)"
   ]
  },
  {
   "cell_type": "markdown",
   "metadata": {},
   "source": [
    "#### Prediction"
   ]
  },
  {
   "cell_type": "code",
   "execution_count": 69,
   "metadata": {},
   "outputs": [],
   "source": [
    "y_pred_DT = DT_model.predict(X_test)"
   ]
  },
  {
   "cell_type": "markdown",
   "metadata": {},
   "source": [
    "#### Evaluation"
   ]
  },
  {
   "cell_type": "code",
   "execution_count": 70,
   "metadata": {},
   "outputs": [
    {
     "name": "stdout",
     "output_type": "stream",
     "text": [
      "              precision    recall  f1-score   support\n",
      "\n",
      "           1       0.74      0.99      0.85     40876\n",
      "           2       0.90      0.19      0.31     17526\n",
      "\n",
      "    accuracy                           0.75     58402\n",
      "   macro avg       0.82      0.59      0.58     58402\n",
      "weighted avg       0.79      0.75      0.69     58402\n",
      "\n"
     ]
    }
   ],
   "source": [
    "print(classification_report(y_test, y_pred_DT))"
   ]
  },
  {
   "cell_type": "code",
   "execution_count": 72,
   "metadata": {},
   "outputs": [
    {
     "data": {
      "text/plain": [
       "array([[40487,   389],\n",
       "       [14201,  3325]], dtype=int64)"
      ]
     },
     "execution_count": 72,
     "metadata": {},
     "output_type": "execute_result"
    }
   ],
   "source": [
    "confusion_matrix(y_test, y_pred_DT)"
   ]
  },
  {
   "cell_type": "code",
   "execution_count": 60,
   "metadata": {},
   "outputs": [
    {
     "data": {
      "image/png": "[encoded data removed]",
      "text/plain": [
       "<Figure size 432x288 with 2 Axes>"
      ]
     },
     "metadata": {
      "needs_background": "light"
     },
     "output_type": "display_data"
    }
   ],
   "source": [
    "plot_confusion_matrix(DT_model, X_test, y_test, normalize='true')  \n",
    "plt.show()"
   ]
  },
  {
   "cell_type": "markdown",
   "metadata": {},
   "source": [
    "### Logistic Regression"
   ]
  },
  {
   "cell_type": "markdown",
   "metadata": {},
   "source": [
    "#### K_Fold Cross Validation"
   ]
  },
  {
   "cell_type": "code",
   "execution_count": 74,
   "metadata": {},
   "outputs": [
    {
     "name": "stdout",
     "output_type": "stream",
     "text": [
      "Best parameters set found on development set:\n",
      "\n",
      "{'C': 0.01}\n",
      "\n",
      "Grid scores on development set:\n",
      "\n",
      "0.975 (+/-0.005) for {'C': 0.01}\n",
      "\n",
      "0.969 (+/-0.004) for {'C': 0.1}\n",
      "\n",
      "0.969 (+/-0.003) for {'C': 1}\n",
      "\n",
      "Detailed classification report:\n",
      "\n",
      "              precision    recall  f1-score   support\n",
      "\n",
      "           1       0.75      0.97      0.84     40876\n",
      "           2       0.78      0.23      0.36     17526\n",
      "\n",
      "    accuracy                           0.75     58402\n",
      "   macro avg       0.76      0.60      0.60     58402\n",
      "weighted avg       0.76      0.75      0.70     58402\n",
      "\n",
      "\n"
     ]
    }
   ],
   "source": [
    "from sklearn.linear_model import LogisticRegression\n",
    "\n",
    "\n",
    "grid_params = [{ 'C': [0.01, 0.1, 1]}]\n",
    "\n",
    "gs = GridSearchCV(LogisticRegression(max_iter=300), grid_params, scoring='recall', cv=3, return_train_score=True)\n",
    "gs.fit(X_train, y_train)\n",
    "print(\"Best parameters set found on development set:\")\n",
    "print()\n",
    "print(gs.best_params_)\n",
    "print()\n",
    "print(\"Grid scores on development set:\")\n",
    "print()\n",
    "means = gs.cv_results_['mean_test_score']\n",
    "stds = gs.cv_results_['std_test_score']\n",
    "for mean, std, params in zip(means, stds, gs.cv_results_['params']):\n",
    "    print(\"%0.3f (+/-%0.03f) for %r\"% (mean, std * 2, params))\n",
    "    print()\n",
    "\n",
    "print(\"Detailed classification report:\")\n",
    "print()\n",
    "y_true, y_pred = y_test, gs.predict(X_test)\n",
    "print(classification_report(y_true, y_pred))\n",
    "print()"
   ]
  },
  {
   "cell_type": "code",
   "execution_count": 75,
   "metadata": {},
   "outputs": [
    {
     "data": {
      "image/png": "[encoded data removed]",
      "text/plain": [
       "<Figure size 432x288 with 2 Axes>"
      ]
     },
     "metadata": {
      "needs_background": "light"
     },
     "output_type": "display_data"
    }
   ],
   "source": [
    "LR_model = LogisticRegression(C=0.01, max_iter=300).fit(X_train,y_train)\n",
    "plot_confusion_matrix(LR_model, X_test, y_test, normalize='true')  \n",
    "plt.show()"
   ]
  },
  {
   "cell_type": "markdown",
   "metadata": {},
   "source": [
    "### Negative Sampling"
   ]
  },
  {
   "cell_type": "code",
   "execution_count": 60,
   "metadata": {},
   "outputs": [],
   "source": [
    "df_train, df_test = train_test_split(df, test_size=0.3, random_state=20)"
   ]
  },
  {
   "cell_type": "code",
   "execution_count": 61,
   "metadata": {},
   "outputs": [
    {
     "data": {
      "text/plain": [
       "1    95609\n",
       "2    40662\n",
       "Name: SEVERITYCODE, dtype: int64"
      ]
     },
     "execution_count": 61,
     "metadata": {},
     "output_type": "execute_result"
    }
   ],
   "source": [
    "df_train['SEVERITYCODE'].value_counts()"
   ]
  },
  {
   "cell_type": "code",
   "execution_count": 62,
   "metadata": {},
   "outputs": [],
   "source": [
    "df_train_Code1_balanced = df.loc[df['SEVERITYCODE']==1].sample(n=40662, random_state=0)"
   ]
  },
  {
   "cell_type": "code",
   "execution_count": 63,
   "metadata": {},
   "outputs": [
    {
     "data": {
      "text/plain": [
       "1    40662\n",
       "Name: SEVERITYCODE, dtype: int64"
      ]
     },
     "execution_count": 63,
     "metadata": {},
     "output_type": "execute_result"
    }
   ],
   "source": [
    "df_train_Code1_balanced['SEVERITYCODE'].value_counts()"
   ]
  },
  {
   "cell_type": "code",
   "execution_count": 64,
   "metadata": {},
   "outputs": [],
   "source": [
    "df_train_Code2 = df_train.loc[df_train['SEVERITYCODE']==2]"
   ]
  },
  {
   "cell_type": "code",
   "execution_count": 66,
   "metadata": {},
   "outputs": [
    {
     "data": {
      "text/html": [
       "<div>\n",
       "<style scoped>\n",
       "    .dataframe tbody tr th:only-of-type {\n",
       "        vertical-align: middle;\n",
       "    }\n",
       "\n",
       "    .dataframe tbody tr th {\n",
       "        vertical-align: top;\n",
       "    }\n",
       "\n",
       "    .dataframe thead th {\n",
       "        text-align: right;\n",
       "    }\n",
       "</style>\n",
       "<table border=\"1\" class=\"dataframe\">\n",
       "  <thead>\n",
       "    <tr style=\"text-align: right;\">\n",
       "      <th></th>\n",
       "      <th>SEVERITYCODE</th>\n",
       "      <th>PEDCOUNT</th>\n",
       "      <th>PEDCYLCOUNT</th>\n",
       "      <th>INATTENTIONIND</th>\n",
       "      <th>UNDERINFL</th>\n",
       "      <th>PEDROWNOTGRNT</th>\n",
       "      <th>SPEEDING</th>\n",
       "      <th>HITPARKEDCAR</th>\n",
       "      <th>Alley</th>\n",
       "      <th>Angles</th>\n",
       "      <th>Head On</th>\n",
       "      <th>Left Turn</th>\n",
       "      <th>Parked Car</th>\n",
       "      <th>Rear Ended</th>\n",
       "      <th>Right Turn</th>\n",
       "      <th>Sideswipe</th>\n",
       "      <th>At Intersection (but not related to intersection)</th>\n",
       "      <th>At Intersection (intersection related)</th>\n",
       "      <th>Driveway Junction</th>\n",
       "      <th>Mid-Block (but intersection related)</th>\n",
       "      <th>Mid-Block (not related to intersection)</th>\n",
       "      <th>Ramp Junction</th>\n",
       "      <th>Blowing Sand/Dirt</th>\n",
       "      <th>Fog/Smog/Smoke</th>\n",
       "      <th>Overcast</th>\n",
       "      <th>Partly Cloudy</th>\n",
       "      <th>Raining</th>\n",
       "      <th>Severe Crosswind</th>\n",
       "      <th>Sleet/Hail/Freezing Rain</th>\n",
       "      <th>Snowing</th>\n",
       "      <th>Ice</th>\n",
       "      <th>Oil</th>\n",
       "      <th>Sand/Mud/Dirt</th>\n",
       "      <th>Standing Water</th>\n",
       "      <th>Dark - No Street Lights</th>\n",
       "      <th>Dark - Street Lights Off</th>\n",
       "      <th>Dawn</th>\n",
       "      <th>Daylight</th>\n",
       "      <th>Dusk</th>\n",
       "      <th>LOW_RATIO_HOUR</th>\n",
       "      <th>HIGH_RATIO_HOUR</th>\n",
       "    </tr>\n",
       "  </thead>\n",
       "  <tbody>\n",
       "    <tr>\n",
       "      <th>0</th>\n",
       "      <td>1</td>\n",
       "      <td>0</td>\n",
       "      <td>0</td>\n",
       "      <td>0</td>\n",
       "      <td>0</td>\n",
       "      <td>0</td>\n",
       "      <td>0</td>\n",
       "      <td>0</td>\n",
       "      <td>0</td>\n",
       "      <td>0</td>\n",
       "      <td>0</td>\n",
       "      <td>0</td>\n",
       "      <td>1</td>\n",
       "      <td>0</td>\n",
       "      <td>0</td>\n",
       "      <td>0</td>\n",
       "      <td>0</td>\n",
       "      <td>0</td>\n",
       "      <td>0</td>\n",
       "      <td>0</td>\n",
       "      <td>1</td>\n",
       "      <td>0</td>\n",
       "      <td>0</td>\n",
       "      <td>0</td>\n",
       "      <td>0</td>\n",
       "      <td>0</td>\n",
       "      <td>1</td>\n",
       "      <td>0</td>\n",
       "      <td>0</td>\n",
       "      <td>0</td>\n",
       "      <td>0</td>\n",
       "      <td>0</td>\n",
       "      <td>0</td>\n",
       "      <td>0</td>\n",
       "      <td>0</td>\n",
       "      <td>0</td>\n",
       "      <td>0</td>\n",
       "      <td>1</td>\n",
       "      <td>0</td>\n",
       "      <td>0</td>\n",
       "      <td>0</td>\n",
       "    </tr>\n",
       "    <tr>\n",
       "      <th>1</th>\n",
       "      <td>2</td>\n",
       "      <td>0</td>\n",
       "      <td>0</td>\n",
       "      <td>1</td>\n",
       "      <td>0</td>\n",
       "      <td>0</td>\n",
       "      <td>0</td>\n",
       "      <td>0</td>\n",
       "      <td>0</td>\n",
       "      <td>0</td>\n",
       "      <td>0</td>\n",
       "      <td>0</td>\n",
       "      <td>1</td>\n",
       "      <td>0</td>\n",
       "      <td>0</td>\n",
       "      <td>0</td>\n",
       "      <td>0</td>\n",
       "      <td>0</td>\n",
       "      <td>0</td>\n",
       "      <td>0</td>\n",
       "      <td>1</td>\n",
       "      <td>0</td>\n",
       "      <td>0</td>\n",
       "      <td>0</td>\n",
       "      <td>0</td>\n",
       "      <td>0</td>\n",
       "      <td>0</td>\n",
       "      <td>0</td>\n",
       "      <td>0</td>\n",
       "      <td>0</td>\n",
       "      <td>0</td>\n",
       "      <td>0</td>\n",
       "      <td>0</td>\n",
       "      <td>0</td>\n",
       "      <td>0</td>\n",
       "      <td>0</td>\n",
       "      <td>0</td>\n",
       "      <td>0</td>\n",
       "      <td>1</td>\n",
       "      <td>0</td>\n",
       "      <td>1</td>\n",
       "    </tr>\n",
       "    <tr>\n",
       "      <th>2</th>\n",
       "      <td>1</td>\n",
       "      <td>0</td>\n",
       "      <td>0</td>\n",
       "      <td>0</td>\n",
       "      <td>0</td>\n",
       "      <td>0</td>\n",
       "      <td>0</td>\n",
       "      <td>0</td>\n",
       "      <td>0</td>\n",
       "      <td>0</td>\n",
       "      <td>0</td>\n",
       "      <td>0</td>\n",
       "      <td>1</td>\n",
       "      <td>0</td>\n",
       "      <td>0</td>\n",
       "      <td>0</td>\n",
       "      <td>0</td>\n",
       "      <td>0</td>\n",
       "      <td>0</td>\n",
       "      <td>0</td>\n",
       "      <td>1</td>\n",
       "      <td>0</td>\n",
       "      <td>0</td>\n",
       "      <td>0</td>\n",
       "      <td>0</td>\n",
       "      <td>0</td>\n",
       "      <td>0</td>\n",
       "      <td>0</td>\n",
       "      <td>0</td>\n",
       "      <td>0</td>\n",
       "      <td>0</td>\n",
       "      <td>0</td>\n",
       "      <td>0</td>\n",
       "      <td>0</td>\n",
       "      <td>0</td>\n",
       "      <td>0</td>\n",
       "      <td>0</td>\n",
       "      <td>1</td>\n",
       "      <td>0</td>\n",
       "      <td>0</td>\n",
       "      <td>1</td>\n",
       "    </tr>\n",
       "    <tr>\n",
       "      <th>3</th>\n",
       "      <td>1</td>\n",
       "      <td>0</td>\n",
       "      <td>0</td>\n",
       "      <td>0</td>\n",
       "      <td>0</td>\n",
       "      <td>0</td>\n",
       "      <td>0</td>\n",
       "      <td>0</td>\n",
       "      <td>0</td>\n",
       "      <td>0</td>\n",
       "      <td>0</td>\n",
       "      <td>0</td>\n",
       "      <td>0</td>\n",
       "      <td>0</td>\n",
       "      <td>1</td>\n",
       "      <td>0</td>\n",
       "      <td>0</td>\n",
       "      <td>1</td>\n",
       "      <td>0</td>\n",
       "      <td>0</td>\n",
       "      <td>0</td>\n",
       "      <td>0</td>\n",
       "      <td>0</td>\n",
       "      <td>0</td>\n",
       "      <td>0</td>\n",
       "      <td>0</td>\n",
       "      <td>0</td>\n",
       "      <td>0</td>\n",
       "      <td>0</td>\n",
       "      <td>0</td>\n",
       "      <td>0</td>\n",
       "      <td>0</td>\n",
       "      <td>0</td>\n",
       "      <td>0</td>\n",
       "      <td>0</td>\n",
       "      <td>0</td>\n",
       "      <td>0</td>\n",
       "      <td>1</td>\n",
       "      <td>0</td>\n",
       "      <td>0</td>\n",
       "      <td>0</td>\n",
       "    </tr>\n",
       "    <tr>\n",
       "      <th>4</th>\n",
       "      <td>1</td>\n",
       "      <td>0</td>\n",
       "      <td>0</td>\n",
       "      <td>0</td>\n",
       "      <td>0</td>\n",
       "      <td>0</td>\n",
       "      <td>0</td>\n",
       "      <td>0</td>\n",
       "      <td>0</td>\n",
       "      <td>0</td>\n",
       "      <td>0</td>\n",
       "      <td>0</td>\n",
       "      <td>1</td>\n",
       "      <td>0</td>\n",
       "      <td>0</td>\n",
       "      <td>0</td>\n",
       "      <td>0</td>\n",
       "      <td>0</td>\n",
       "      <td>0</td>\n",
       "      <td>0</td>\n",
       "      <td>1</td>\n",
       "      <td>0</td>\n",
       "      <td>0</td>\n",
       "      <td>0</td>\n",
       "      <td>0</td>\n",
       "      <td>0</td>\n",
       "      <td>0</td>\n",
       "      <td>0</td>\n",
       "      <td>0</td>\n",
       "      <td>0</td>\n",
       "      <td>0</td>\n",
       "      <td>0</td>\n",
       "      <td>0</td>\n",
       "      <td>0</td>\n",
       "      <td>0</td>\n",
       "      <td>0</td>\n",
       "      <td>0</td>\n",
       "      <td>1</td>\n",
       "      <td>0</td>\n",
       "      <td>0</td>\n",
       "      <td>1</td>\n",
       "    </tr>\n",
       "    <tr>\n",
       "      <th>...</th>\n",
       "      <td>...</td>\n",
       "      <td>...</td>\n",
       "      <td>...</td>\n",
       "      <td>...</td>\n",
       "      <td>...</td>\n",
       "      <td>...</td>\n",
       "      <td>...</td>\n",
       "      <td>...</td>\n",
       "      <td>...</td>\n",
       "      <td>...</td>\n",
       "      <td>...</td>\n",
       "      <td>...</td>\n",
       "      <td>...</td>\n",
       "      <td>...</td>\n",
       "      <td>...</td>\n",
       "      <td>...</td>\n",
       "      <td>...</td>\n",
       "      <td>...</td>\n",
       "      <td>...</td>\n",
       "      <td>...</td>\n",
       "      <td>...</td>\n",
       "      <td>...</td>\n",
       "      <td>...</td>\n",
       "      <td>...</td>\n",
       "      <td>...</td>\n",
       "      <td>...</td>\n",
       "      <td>...</td>\n",
       "      <td>...</td>\n",
       "      <td>...</td>\n",
       "      <td>...</td>\n",
       "      <td>...</td>\n",
       "      <td>...</td>\n",
       "      <td>...</td>\n",
       "      <td>...</td>\n",
       "      <td>...</td>\n",
       "      <td>...</td>\n",
       "      <td>...</td>\n",
       "      <td>...</td>\n",
       "      <td>...</td>\n",
       "      <td>...</td>\n",
       "      <td>...</td>\n",
       "    </tr>\n",
       "    <tr>\n",
       "      <th>81319</th>\n",
       "      <td>2</td>\n",
       "      <td>0</td>\n",
       "      <td>0</td>\n",
       "      <td>0</td>\n",
       "      <td>0</td>\n",
       "      <td>0</td>\n",
       "      <td>0</td>\n",
       "      <td>0</td>\n",
       "      <td>0</td>\n",
       "      <td>1</td>\n",
       "      <td>0</td>\n",
       "      <td>0</td>\n",
       "      <td>0</td>\n",
       "      <td>0</td>\n",
       "      <td>0</td>\n",
       "      <td>0</td>\n",
       "      <td>0</td>\n",
       "      <td>1</td>\n",
       "      <td>0</td>\n",
       "      <td>0</td>\n",
       "      <td>0</td>\n",
       "      <td>0</td>\n",
       "      <td>0</td>\n",
       "      <td>0</td>\n",
       "      <td>0</td>\n",
       "      <td>0</td>\n",
       "      <td>1</td>\n",
       "      <td>0</td>\n",
       "      <td>0</td>\n",
       "      <td>0</td>\n",
       "      <td>0</td>\n",
       "      <td>0</td>\n",
       "      <td>0</td>\n",
       "      <td>0</td>\n",
       "      <td>1</td>\n",
       "      <td>0</td>\n",
       "      <td>0</td>\n",
       "      <td>0</td>\n",
       "      <td>0</td>\n",
       "      <td>0</td>\n",
       "      <td>1</td>\n",
       "    </tr>\n",
       "    <tr>\n",
       "      <th>81320</th>\n",
       "      <td>1</td>\n",
       "      <td>0</td>\n",
       "      <td>0</td>\n",
       "      <td>0</td>\n",
       "      <td>0</td>\n",
       "      <td>0</td>\n",
       "      <td>0</td>\n",
       "      <td>0</td>\n",
       "      <td>0</td>\n",
       "      <td>0</td>\n",
       "      <td>0</td>\n",
       "      <td>0</td>\n",
       "      <td>0</td>\n",
       "      <td>1</td>\n",
       "      <td>0</td>\n",
       "      <td>0</td>\n",
       "      <td>0</td>\n",
       "      <td>0</td>\n",
       "      <td>0</td>\n",
       "      <td>0</td>\n",
       "      <td>1</td>\n",
       "      <td>0</td>\n",
       "      <td>0</td>\n",
       "      <td>0</td>\n",
       "      <td>1</td>\n",
       "      <td>0</td>\n",
       "      <td>0</td>\n",
       "      <td>0</td>\n",
       "      <td>0</td>\n",
       "      <td>0</td>\n",
       "      <td>0</td>\n",
       "      <td>0</td>\n",
       "      <td>0</td>\n",
       "      <td>0</td>\n",
       "      <td>0</td>\n",
       "      <td>0</td>\n",
       "      <td>0</td>\n",
       "      <td>0</td>\n",
       "      <td>0</td>\n",
       "      <td>0</td>\n",
       "      <td>1</td>\n",
       "    </tr>\n",
       "    <tr>\n",
       "      <th>81321</th>\n",
       "      <td>1</td>\n",
       "      <td>0</td>\n",
       "      <td>0</td>\n",
       "      <td>0</td>\n",
       "      <td>0</td>\n",
       "      <td>0</td>\n",
       "      <td>0</td>\n",
       "      <td>0</td>\n",
       "      <td>0</td>\n",
       "      <td>0</td>\n",
       "      <td>0</td>\n",
       "      <td>0</td>\n",
       "      <td>1</td>\n",
       "      <td>0</td>\n",
       "      <td>0</td>\n",
       "      <td>0</td>\n",
       "      <td>0</td>\n",
       "      <td>0</td>\n",
       "      <td>0</td>\n",
       "      <td>0</td>\n",
       "      <td>1</td>\n",
       "      <td>0</td>\n",
       "      <td>0</td>\n",
       "      <td>0</td>\n",
       "      <td>0</td>\n",
       "      <td>0</td>\n",
       "      <td>0</td>\n",
       "      <td>0</td>\n",
       "      <td>0</td>\n",
       "      <td>0</td>\n",
       "      <td>0</td>\n",
       "      <td>0</td>\n",
       "      <td>0</td>\n",
       "      <td>0</td>\n",
       "      <td>0</td>\n",
       "      <td>0</td>\n",
       "      <td>0</td>\n",
       "      <td>1</td>\n",
       "      <td>0</td>\n",
       "      <td>0</td>\n",
       "      <td>1</td>\n",
       "    </tr>\n",
       "    <tr>\n",
       "      <th>81322</th>\n",
       "      <td>1</td>\n",
       "      <td>0</td>\n",
       "      <td>0</td>\n",
       "      <td>0</td>\n",
       "      <td>0</td>\n",
       "      <td>0</td>\n",
       "      <td>0</td>\n",
       "      <td>0</td>\n",
       "      <td>0</td>\n",
       "      <td>0</td>\n",
       "      <td>0</td>\n",
       "      <td>0</td>\n",
       "      <td>1</td>\n",
       "      <td>0</td>\n",
       "      <td>0</td>\n",
       "      <td>0</td>\n",
       "      <td>0</td>\n",
       "      <td>0</td>\n",
       "      <td>0</td>\n",
       "      <td>0</td>\n",
       "      <td>1</td>\n",
       "      <td>0</td>\n",
       "      <td>0</td>\n",
       "      <td>0</td>\n",
       "      <td>0</td>\n",
       "      <td>0</td>\n",
       "      <td>0</td>\n",
       "      <td>0</td>\n",
       "      <td>0</td>\n",
       "      <td>0</td>\n",
       "      <td>0</td>\n",
       "      <td>0</td>\n",
       "      <td>0</td>\n",
       "      <td>0</td>\n",
       "      <td>0</td>\n",
       "      <td>0</td>\n",
       "      <td>0</td>\n",
       "      <td>0</td>\n",
       "      <td>0</td>\n",
       "      <td>0</td>\n",
       "      <td>1</td>\n",
       "    </tr>\n",
       "    <tr>\n",
       "      <th>81323</th>\n",
       "      <td>2</td>\n",
       "      <td>0</td>\n",
       "      <td>0</td>\n",
       "      <td>0</td>\n",
       "      <td>0</td>\n",
       "      <td>0</td>\n",
       "      <td>0</td>\n",
       "      <td>0</td>\n",
       "      <td>0</td>\n",
       "      <td>0</td>\n",
       "      <td>0</td>\n",
       "      <td>0</td>\n",
       "      <td>0</td>\n",
       "      <td>1</td>\n",
       "      <td>0</td>\n",
       "      <td>0</td>\n",
       "      <td>0</td>\n",
       "      <td>0</td>\n",
       "      <td>0</td>\n",
       "      <td>0</td>\n",
       "      <td>1</td>\n",
       "      <td>0</td>\n",
       "      <td>0</td>\n",
       "      <td>0</td>\n",
       "      <td>0</td>\n",
       "      <td>0</td>\n",
       "      <td>0</td>\n",
       "      <td>0</td>\n",
       "      <td>0</td>\n",
       "      <td>0</td>\n",
       "      <td>0</td>\n",
       "      <td>0</td>\n",
       "      <td>0</td>\n",
       "      <td>0</td>\n",
       "      <td>0</td>\n",
       "      <td>0</td>\n",
       "      <td>0</td>\n",
       "      <td>1</td>\n",
       "      <td>0</td>\n",
       "      <td>0</td>\n",
       "      <td>1</td>\n",
       "    </tr>\n",
       "  </tbody>\n",
       "</table>\n",
       "<p>81324 rows × 41 columns</p>\n",
       "</div>"
      ],
      "text/plain": [
       "       SEVERITYCODE  PEDCOUNT  PEDCYLCOUNT  INATTENTIONIND  UNDERINFL  \\\n",
       "0                 1         0            0               0          0   \n",
       "1                 2         0            0               1          0   \n",
       "2                 1         0            0               0          0   \n",
       "3                 1         0            0               0          0   \n",
       "4                 1         0            0               0          0   \n",
       "...             ...       ...          ...             ...        ...   \n",
       "81319             2         0            0               0          0   \n",
       "81320             1         0            0               0          0   \n",
       "81321             1         0            0               0          0   \n",
       "81322             1         0            0               0          0   \n",
       "81323             2         0            0               0          0   \n",
       "\n",
       "       PEDROWNOTGRNT  SPEEDING  HITPARKEDCAR  Alley  Angles  Head On  \\\n",
       "0                  0         0             0      0       0        0   \n",
       "1                  0         0             0      0       0        0   \n",
       "2                  0         0             0      0       0        0   \n",
       "3                  0         0             0      0       0        0   \n",
       "4                  0         0             0      0       0        0   \n",
       "...              ...       ...           ...    ...     ...      ...   \n",
       "81319              0         0             0      0       1        0   \n",
       "81320              0         0             0      0       0        0   \n",
       "81321              0         0             0      0       0        0   \n",
       "81322              0         0             0      0       0        0   \n",
       "81323              0         0             0      0       0        0   \n",
       "\n",
       "       Left Turn  Parked Car  Rear Ended  Right Turn  Sideswipe  \\\n",
       "0              0           1           0           0          0   \n",
       "1              0           1           0           0          0   \n",
       "2              0           1           0           0          0   \n",
       "3              0           0           0           1          0   \n",
       "4              0           1           0           0          0   \n",
       "...          ...         ...         ...         ...        ...   \n",
       "81319          0           0           0           0          0   \n",
       "81320          0           0           1           0          0   \n",
       "81321          0           1           0           0          0   \n",
       "81322          0           1           0           0          0   \n",
       "81323          0           0           1           0          0   \n",
       "\n",
       "       At Intersection (but not related to intersection)  \\\n",
       "0                                                      0   \n",
       "1                                                      0   \n",
       "2                                                      0   \n",
       "3                                                      0   \n",
       "4                                                      0   \n",
       "...                                                  ...   \n",
       "81319                                                  0   \n",
       "81320                                                  0   \n",
       "81321                                                  0   \n",
       "81322                                                  0   \n",
       "81323                                                  0   \n",
       "\n",
       "       At Intersection (intersection related)  Driveway Junction  \\\n",
       "0                                           0                  0   \n",
       "1                                           0                  0   \n",
       "2                                           0                  0   \n",
       "3                                           1                  0   \n",
       "4                                           0                  0   \n",
       "...                                       ...                ...   \n",
       "81319                                       1                  0   \n",
       "81320                                       0                  0   \n",
       "81321                                       0                  0   \n",
       "81322                                       0                  0   \n",
       "81323                                       0                  0   \n",
       "\n",
       "       Mid-Block (but intersection related)  \\\n",
       "0                                         0   \n",
       "1                                         0   \n",
       "2                                         0   \n",
       "3                                         0   \n",
       "4                                         0   \n",
       "...                                     ...   \n",
       "81319                                     0   \n",
       "81320                                     0   \n",
       "81321                                     0   \n",
       "81322                                     0   \n",
       "81323                                     0   \n",
       "\n",
       "       Mid-Block (not related to intersection)  Ramp Junction  \\\n",
       "0                                            1              0   \n",
       "1                                            1              0   \n",
       "2                                            1              0   \n",
       "3                                            0              0   \n",
       "4                                            1              0   \n",
       "...                                        ...            ...   \n",
       "81319                                        0              0   \n",
       "81320                                        1              0   \n",
       "81321                                        1              0   \n",
       "81322                                        1              0   \n",
       "81323                                        1              0   \n",
       "\n",
       "       Blowing Sand/Dirt  Fog/Smog/Smoke  Overcast  Partly Cloudy  Raining  \\\n",
       "0                      0               0         0              0        1   \n",
       "1                      0               0         0              0        0   \n",
       "2                      0               0         0              0        0   \n",
       "3                      0               0         0              0        0   \n",
       "4                      0               0         0              0        0   \n",
       "...                  ...             ...       ...            ...      ...   \n",
       "81319                  0               0         0              0        1   \n",
       "81320                  0               0         1              0        0   \n",
       "81321                  0               0         0              0        0   \n",
       "81322                  0               0         0              0        0   \n",
       "81323                  0               0         0              0        0   \n",
       "\n",
       "       Severe Crosswind  Sleet/Hail/Freezing Rain  Snowing  Ice  Oil  \\\n",
       "0                     0                         0        0    0    0   \n",
       "1                     0                         0        0    0    0   \n",
       "2                     0                         0        0    0    0   \n",
       "3                     0                         0        0    0    0   \n",
       "4                     0                         0        0    0    0   \n",
       "...                 ...                       ...      ...  ...  ...   \n",
       "81319                 0                         0        0    0    0   \n",
       "81320                 0                         0        0    0    0   \n",
       "81321                 0                         0        0    0    0   \n",
       "81322                 0                         0        0    0    0   \n",
       "81323                 0                         0        0    0    0   \n",
       "\n",
       "       Sand/Mud/Dirt  Standing Water  Dark - No Street Lights  \\\n",
       "0                  0               0                        0   \n",
       "1                  0               0                        0   \n",
       "2                  0               0                        0   \n",
       "3                  0               0                        0   \n",
       "4                  0               0                        0   \n",
       "...              ...             ...                      ...   \n",
       "81319              0               0                        1   \n",
       "81320              0               0                        0   \n",
       "81321              0               0                        0   \n",
       "81322              0               0                        0   \n",
       "81323              0               0                        0   \n",
       "\n",
       "       Dark - Street Lights Off  Dawn  Daylight  Dusk  LOW_RATIO_HOUR  \\\n",
       "0                             0     0         1     0               0   \n",
       "1                             0     0         0     1               0   \n",
       "2                             0     0         1     0               0   \n",
       "3                             0     0         1     0               0   \n",
       "4                             0     0         1     0               0   \n",
       "...                         ...   ...       ...   ...             ...   \n",
       "81319                         0     0         0     0               0   \n",
       "81320                         0     0         0     0               0   \n",
       "81321                         0     0         1     0               0   \n",
       "81322                         0     0         0     0               0   \n",
       "81323                         0     0         1     0               0   \n",
       "\n",
       "       HIGH_RATIO_HOUR  \n",
       "0                    0  \n",
       "1                    1  \n",
       "2                    1  \n",
       "3                    0  \n",
       "4                    1  \n",
       "...                ...  \n",
       "81319                1  \n",
       "81320                1  \n",
       "81321                1  \n",
       "81322                1  \n",
       "81323                1  \n",
       "\n",
       "[81324 rows x 41 columns]"
      ]
     },
     "execution_count": 66,
     "metadata": {},
     "output_type": "execute_result"
    }
   ],
   "source": [
    "df_train_balanced=pd.concat([df_train_Code1_balanced, df_train_Code2]).reset_index(drop=True)\n",
    "df_train_balanced = df_train_balanced.sample(frac=1).reset_index(drop=True)\n",
    "df_train_balanced"
   ]
  },
  {
   "cell_type": "code",
   "execution_count": 67,
   "metadata": {},
   "outputs": [
    {
     "data": {
      "text/plain": [
       "2    40662\n",
       "1    40662\n",
       "Name: SEVERITYCODE, dtype: int64"
      ]
     },
     "execution_count": 67,
     "metadata": {},
     "output_type": "execute_result"
    }
   ],
   "source": [
    "df_train_balanced['SEVERITYCODE'].value_counts()"
   ]
  },
  {
   "cell_type": "code",
   "execution_count": 68,
   "metadata": {},
   "outputs": [],
   "source": [
    "X_train_balanced = df_train_balanced.iloc[:, 1:]\n",
    "y_train_balanced = df_train_balanced['SEVERITYCODE'].values"
   ]
  },
  {
   "cell_type": "code",
   "execution_count": 69,
   "metadata": {},
   "outputs": [],
   "source": [
    "X_test = df_test.iloc[:, 1:]\n",
    "y_test = df_test['SEVERITYCODE'].values"
   ]
  },
  {
   "cell_type": "markdown",
   "metadata": {},
   "source": [
    "### Logistic Regression"
   ]
  },
  {
   "cell_type": "markdown",
   "metadata": {},
   "source": [
    "#### K_Fold Cross_Validation"
   ]
  },
  {
   "cell_type": "code",
   "execution_count": 71,
   "metadata": {},
   "outputs": [
    {
     "name": "stdout",
     "output_type": "stream",
     "text": [
      "Best parameters set found on development set:\n",
      "\n",
      "{'C': 1}\n",
      "\n",
      "Grid scores on development set:\n",
      "\n",
      "0.591 (+/-0.007) for {'C': 0.01}\n",
      "\n",
      "0.603 (+/-0.004) for {'C': 0.1}\n",
      "\n",
      "0.603 (+/-0.005) for {'C': 1}\n",
      "\n",
      "Detailed classification report:\n",
      "\n",
      "              precision    recall  f1-score   support\n",
      "\n",
      "           1       0.88      0.61      0.72     40876\n",
      "           2       0.47      0.81      0.59     17526\n",
      "\n",
      "    accuracy                           0.67     58402\n",
      "   macro avg       0.67      0.71      0.66     58402\n",
      "weighted avg       0.76      0.67      0.68     58402\n",
      "\n",
      "\n"
     ]
    }
   ],
   "source": [
    "from sklearn.linear_model import LogisticRegression\n",
    "from sklearn.model_selection import GridSearchCV\n",
    "from sklearn.metrics import classification_report\n",
    "\n",
    "grid_params = [{ 'C': [0.01, 0.1, 1]}]\n",
    "\n",
    "gs = GridSearchCV(LogisticRegression(max_iter=300), grid_params, scoring='recall', cv=3, return_train_score=True)\n",
    "gs.fit(X_train_balanced, y_train_balanced)\n",
    "print(\"Best parameters set found on development set:\")\n",
    "print()\n",
    "print(gs.best_params_)\n",
    "print()\n",
    "print(\"Grid scores on development set:\")\n",
    "print()\n",
    "means = gs.cv_results_['mean_test_score']\n",
    "stds = gs.cv_results_['std_test_score']\n",
    "for mean, std, params in zip(means, stds, gs.cv_results_['params']):\n",
    "    print(\"%0.3f (+/-%0.03f) for %r\"% (mean, std * 2, params))\n",
    "    print()\n",
    "\n",
    "print(\"Detailed classification report:\")\n",
    "print()\n",
    "y_true, y_pred = y_test, gs.predict(X_test)\n",
    "print(classification_report(y_true, y_pred))\n",
    "print()"
   ]
  },
  {
   "cell_type": "code",
   "execution_count": 72,
   "metadata": {},
   "outputs": [
    {
     "data": {
      "image/png": "[encoded data removed]",
      "text/plain": [
       "<Figure size 432x288 with 2 Axes>"
      ]
     },
     "metadata": {
      "needs_background": "light"
     },
     "output_type": "display_data"
    }
   ],
   "source": [
    "LR_model = LogisticRegression(C=0.01, max_iter=300).fit(X_train_balanced,y_train_balanced)\n",
    "plot_confusion_matrix(LR_model, X_test, y_test, normalize='true')  \n",
    "plt.show()"
   ]
  },
  {
   "cell_type": "markdown",
   "metadata": {},
   "source": [
    "### Decision Tree"
   ]
  },
  {
   "cell_type": "code",
   "execution_count": 73,
   "metadata": {},
   "outputs": [
    {
     "data": {
      "text/plain": [
       "DecisionTreeClassifier(criterion='entropy', max_depth=6)"
      ]
     },
     "execution_count": 73,
     "metadata": {},
     "output_type": "execute_result"
    }
   ],
   "source": [
    "from sklearn.tree import DecisionTreeClassifier\n",
    "\n",
    "DT_model = DecisionTreeClassifier(criterion=\"entropy\", max_depth = 6)\n",
    "DT_model.fit(X_train_balanced,y_train_balanced)"
   ]
  },
  {
   "cell_type": "code",
   "execution_count": 74,
   "metadata": {},
   "outputs": [],
   "source": [
    "y_pred_DT = DT_model.predict(X_test)"
   ]
  },
  {
   "cell_type": "code",
   "execution_count": 75,
   "metadata": {},
   "outputs": [
    {
     "name": "stdout",
     "output_type": "stream",
     "text": [
      "              precision    recall  f1-score   support\n",
      "\n",
      "           1       0.86      0.64      0.73     40876\n",
      "           2       0.47      0.76      0.58     17526\n",
      "\n",
      "    accuracy                           0.67     58402\n",
      "   macro avg       0.67      0.70      0.66     58402\n",
      "weighted avg       0.74      0.67      0.69     58402\n",
      "\n"
     ]
    }
   ],
   "source": [
    "print(classification_report(y_test, y_pred_DT))"
   ]
  },
  {
   "cell_type": "code",
   "execution_count": 76,
   "metadata": {},
   "outputs": [
    {
     "data": {
      "text/plain": [
       "array([[25975, 14901],\n",
       "       [ 4220, 13306]], dtype=int64)"
      ]
     },
     "execution_count": 76,
     "metadata": {},
     "output_type": "execute_result"
    }
   ],
   "source": [
    "confusion_matrix(y_test, y_pred_DT)"
   ]
  },
  {
   "cell_type": "code",
   "execution_count": 77,
   "metadata": {},
   "outputs": [
    {
     "data": {
      "image/png": "[encoded data removed]",
      "text/plain": [
       "<Figure size 432x288 with 2 Axes>"
      ]
     },
     "metadata": {
      "needs_background": "light"
     },
     "output_type": "display_data"
    }
   ],
   "source": [
    "plot_confusion_matrix(DT_model, X_test, y_test, normalize='true')  \n",
    "plt.show()"
   ]
  },
  {
   "cell_type": "markdown",
   "metadata": {},
   "source": [
    "### SVM"
   ]
  },
  {
   "cell_type": "code",
   "execution_count": 78,
   "metadata": {},
   "outputs": [
    {
     "data": {
      "text/plain": [
       "SVC(C=1, kernel='linear')"
      ]
     },
     "execution_count": 78,
     "metadata": {},
     "output_type": "execute_result"
    }
   ],
   "source": [
    "from sklearn import svm\n",
    "from sklearn.svm import SVC\n",
    "\n",
    "SVM_model = svm.SVC(kernel='linear', C=1)\n",
    "SVM_model.fit(X_train_balanced, y_train_balanced) "
   ]
  },
  {
   "cell_type": "code",
   "execution_count": 79,
   "metadata": {},
   "outputs": [],
   "source": [
    "y_pred_SVM = SVM_model.predict(X_test)"
   ]
  },
  {
   "cell_type": "code",
   "execution_count": 80,
   "metadata": {},
   "outputs": [
    {
     "data": {
      "text/plain": [
       "array([[25533, 15343],\n",
       "       [ 3798, 13728]], dtype=int64)"
      ]
     },
     "execution_count": 80,
     "metadata": {},
     "output_type": "execute_result"
    }
   ],
   "source": [
    "confusion_matrix(y_test, y_pred_SVM)"
   ]
  },
  {
   "cell_type": "code",
   "execution_count": 85,
   "metadata": {},
   "outputs": [
    {
     "name": "stdout",
     "output_type": "stream",
     "text": [
      "              precision    recall  f1-score   support\n",
      "\n",
      "           1       0.87      0.62      0.73     40876\n",
      "           2       0.47      0.78      0.59     17526\n",
      "\n",
      "    accuracy                           0.67     58402\n",
      "   macro avg       0.67      0.70      0.66     58402\n",
      "weighted avg       0.75      0.67      0.69     58402\n",
      "\n"
     ]
    }
   ],
   "source": [
    "print(classification_report(y_test, y_pred_SVM))"
   ]
  },
  {
   "cell_type": "code",
   "execution_count": 81,
   "metadata": {},
   "outputs": [
    {
     "data": {
      "image/png": "[encoded data removed]",
      "text/plain": [
       "<Figure size 432x288 with 2 Axes>"
      ]
     },
     "metadata": {
      "needs_background": "light"
     },
     "output_type": "display_data"
    }
   ],
   "source": [
    "plot_confusion_matrix(SVM_model, X_test, y_test, normalize='true')  \n",
    "plt.show()"
   ]
  },
  {
   "cell_type": "markdown",
   "metadata": {},
   "source": [
    "### KNN"
   ]
  },
  {
   "cell_type": "code",
   "execution_count": 82,
   "metadata": {},
   "outputs": [
    {
     "name": "stdout",
     "output_type": "stream",
     "text": [
      "Best parameters set found on development set:\n",
      "\n",
      "{'n_neighbors': 6}\n",
      "\n",
      "Grid scores on development set:\n",
      "\n",
      "0.704 (+/-0.071) for {'n_neighbors': 6}\n",
      "\n",
      "0.606 (+/-0.020) for {'n_neighbors': 7}\n",
      "\n",
      "0.661 (+/-0.031) for {'n_neighbors': 8}\n",
      "\n",
      "0.610 (+/-0.022) for {'n_neighbors': 9}\n",
      "\n",
      "Detailed classification report:\n",
      "\n",
      "              precision    recall  f1-score   support\n",
      "\n",
      "           1       0.81      0.73      0.77     40876\n",
      "           2       0.49      0.59      0.53     17526\n",
      "\n",
      "    accuracy                           0.69     58402\n",
      "   macro avg       0.65      0.66      0.65     58402\n",
      "weighted avg       0.71      0.69      0.70     58402\n",
      "\n",
      "\n"
     ]
    }
   ],
   "source": [
    "from sklearn.neighbors import KNeighborsClassifier\n",
    "\n",
    "\n",
    "grid_params = [{ 'n_neighbors': [6, 7, 8, 9]}]\n",
    "\n",
    "gs = GridSearchCV(KNeighborsClassifier(), grid_params, scoring='recall', cv=3, return_train_score=True)\n",
    "gs.fit(X_train_balanced, y_train_balanced)\n",
    "print(\"Best parameters set found on development set:\")\n",
    "print()\n",
    "print(gs.best_params_)\n",
    "print()\n",
    "print(\"Grid scores on development set:\")\n",
    "print()\n",
    "means = gs.cv_results_['mean_test_score']\n",
    "stds = gs.cv_results_['std_test_score']\n",
    "for mean, std, params in zip(means, stds, gs.cv_results_['params']):\n",
    "    print(\"%0.3f (+/-%0.03f) for %r\"% (mean, std * 2, params))\n",
    "    print()\n",
    "\n",
    "print(\"Detailed classification report:\")\n",
    "print()\n",
    "y_true, y_pred = y_test, gs.predict(X_test)\n",
    "print(classification_report(y_true, y_pred))\n",
    "print()"
   ]
  },
  {
   "cell_type": "code",
   "execution_count": 84,
   "metadata": {},
   "outputs": [
    {
     "data": {
      "image/png": "[encoded data removed]",
      "text/plain": [
       "<Figure size 432x288 with 2 Axes>"
      ]
     },
     "metadata": {
      "needs_background": "light"
     },
     "output_type": "display_data"
    }
   ],
   "source": [
    "kNN_model = KNeighborsClassifier(n_neighbors=6).fit(X_train_balanced,y_train_balanced)\n",
    "plot_confusion_matrix(kNN_model, X_test, y_test, normalize='true')  \n",
    "plt.show()"
   ]
  },
  {
   "cell_type": "code",
   "execution_count": null,
   "metadata": {},
   "outputs": [],
   "source": []
  }
 ],
 "metadata": {
  "kernelspec": {
   "display_name": "Python 3",
   "language": "python",
   "name": "python3"
  },
  "language_info": {
   "codemirror_mode": {
    "name": "ipython",
    "version": 3
   },
   "file_extension": ".py",
   "mimetype": "text/x-python",
   "name": "python",
   "nbconvert_exporter": "python",
   "pygments_lexer": "ipython3",
   "version": "3.7.6"
  }
 },
 "nbformat": 4,
 "nbformat_minor": 4
}
